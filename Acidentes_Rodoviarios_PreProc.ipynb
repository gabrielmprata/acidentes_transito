{
  "nbformat": 4,
  "nbformat_minor": 0,
  "metadata": {
    "colab": {
      "provenance": [],
      "authorship_tag": "ABX9TyPBc/Vlu3AOR1kfhXlRX96H",
      "include_colab_link": true
    },
    "kernelspec": {
      "name": "python3",
      "display_name": "Python 3"
    },
    "language_info": {
      "name": "python"
    }
  },
  "cells": [
    {
      "cell_type": "markdown",
      "metadata": {
        "id": "view-in-github",
        "colab_type": "text"
      },
      "source": [
        "<a href=\"https://colab.research.google.com/github/gabrielmprata/acidentes_transito/blob/main/Acidentes_Rodoviarios_PreProc.ipynb\" target=\"_parent\"><img src=\"https://colab.research.google.com/assets/colab-badge.svg\" alt=\"Open In Colab\"/></a>"
      ]
    },
    {
      "cell_type": "markdown",
      "source": [
        "<img loading=\"lazy\" src=\"https://cdn.jsdelivr.net/gh/devicons/devicon@latest/icons/python/python-original.svg\" width=\"40\" height=\"40\"/> <img src=\"https://cdn.jsdelivr.net/gh/devicons/devicon@latest/icons/pandas/pandas-original-wordmark.svg\" width=\"40\" height=\"40\"/>   <img loading=\"lazy\" src=\"https://cdn.jsdelivr.net/gh/devicons/devicon@latest/icons/plotly/plotly-original-wordmark.svg\" width=\"40\" height=\"40\"/>\n",
        "\n",
        "---\n",
        "**Pré Processamento de dados**\n",
        ">\n",
        "**Dev**: Gabriel Prata\n",
        ">\n",
        "**Data**: 06/03/2025\n",
        ">\n",
        "**Última modificação**: 07/03/2025\n",
        ">\n",
        "**Contexto**: *Dados abertos de acidentes de trânsito*\n",
        ">\n",
        "---"
      ],
      "metadata": {
        "id": "SqJUaZj6yOBY"
      }
    },
    {
      "cell_type": "markdown",
      "source": [
        "![Badge em Desenvolvimento](http://img.shields.io/static/v1?label=STATUS&message=EM%20DESENVOLVIMENTO&color=GREEN&style=for-the-badge)\n",
        "\n",
        "![Badge versao](http://img.shields.io/static/v1?label=Ver.&message=v1.0&color=red&style=for-the-badge&logo=github)"
      ],
      "metadata": {
        "id": "lQij2abms0X_"
      }
    },
    {
      "cell_type": "markdown",
      "source": [
        "#**<font color=#4c60d6 size=\"6\"> Import libraries**"
      ],
      "metadata": {
        "id": "zOQj8cPbymSa"
      }
    },
    {
      "cell_type": "code",
      "execution_count": 1,
      "metadata": {
        "id": "1kDoHsmKyFyQ"
      },
      "outputs": [],
      "source": [
        "# Importação de pacotes\n",
        "import pandas as pd\n",
        "import numpy as np\n",
        "import missingno as ms # para tratamento de missings\n",
        "import datetime\n",
        "import re # expressão regulares\n",
        "\n",
        "#bibliotecas para visualização de dados\n",
        "import seaborn as sns\n",
        "import plotly.express as px\n",
        "import matplotlib.pyplot as plt\n",
        "\n",
        "# Configuração para não exibir os warnings\n",
        "import warnings\n",
        "warnings.filterwarnings(\"ignore\")"
      ]
    },
    {
      "cell_type": "markdown",
      "source": [
        "#**<font color=#4c60d6 size=\"6\"> 1. Objetivo**"
      ],
      "metadata": {
        "id": "ygUa-B-uywcv"
      }
    },
    {
      "cell_type": "markdown",
      "source": [
        "Esse Notebook, foca na etapa de pré-processamento de dados.\n",
        ">\n",
        "Esta é a etapa mais demorada e trabalhosa do projeto de ciência de dados, e estima-se que consuma pelo menos 70% do tempo total do projeto.\n",
        ">\n",
        "Ao final desse notebook, entregaremos um arquivo mais coeso para as análises dos dados de acidentes de trânsito, nas rodovias federais brasileiras."
      ],
      "metadata": {
        "id": "UFx63aMFyzMZ"
      }
    },
    {
      "cell_type": "markdown",
      "source": [
        "#**<font color=#4c60d6 size=\"6\"> 2. Coleta de dados**"
      ],
      "metadata": {
        "id": "0CCmBMFcy7pk"
      }
    },
    {
      "cell_type": "markdown",
      "source": [
        "Os dados foram coletados do sítio da Polícia Rodoviária Federal.\n",
        "<img align=\"left\" width=\"80\" height=\"94\" src=\"https://github.com/gabrielmprata/MVP_Sprint01_Puc_Rio/assets/119508139/f9646e84-d274-406b-9a7a-12add19acb07\">\n",
        ">\n",
        "https://www.gov.br/prf/pt-br/acesso-a-informacao/dados-abertos/dados-abertos-acidentes\n",
        ">"
      ],
      "metadata": {
        "id": "ngE6J-u5zSpw"
      }
    },
    {
      "cell_type": "markdown",
      "source": [
        "###**<font color=#4c60d6> 2.1 Acidentes por ocorrência**"
      ],
      "metadata": {
        "id": "SHU4Q5PLztp3"
      }
    },
    {
      "cell_type": "code",
      "source": [
        "# importando dataset\n",
        "\n",
        "# URL de importação\n",
        "url   = \"https://raw.githubusercontent.com/gabrielmprata/acidentes_transito/main/datasets/datatran2024.zip\"\n",
        "\n",
        "url2   = \"https://raw.githubusercontent.com/gabrielmprata/acidentes_transito/main/datasets/datatran2023.zip\"\n",
        "\n",
        "df_acidentes = pd.read_csv(url, compression='zip', encoding = \"Latin 1\", delimiter=';')\n",
        "\n",
        "# 2023 somente para comparativo\n",
        "df_acidentes_2023 = pd.read_csv(url2, compression='zip', encoding = \"Latin 1\", delimiter=';')\n"
      ],
      "metadata": {
        "id": "bQ5GJpRuzzI2"
      },
      "execution_count": 2,
      "outputs": []
    },
    {
      "cell_type": "markdown",
      "source": [
        "###**<font color=#4c60d6> 2.2 Região IBGE**"
      ],
      "metadata": {
        "id": "OU6neDCg25Yn"
      }
    },
    {
      "cell_type": "markdown",
      "source": [
        "Iremos utilizar a API do IBGE, para coletar informações, que irão enriquecer o Dataset com o nome estado e a região."
      ],
      "metadata": {
        "id": "sNKlBlYM3Hiu"
      }
    },
    {
      "cell_type": "code",
      "source": [
        "pip install ibge"
      ],
      "metadata": {
        "colab": {
          "base_uri": "https://localhost:8080/"
        },
        "id": "ANEWfO2V34l-",
        "outputId": "9269d685-01b0-4667-c0e6-ae4e24ae43b8"
      },
      "execution_count": 3,
      "outputs": [
        {
          "output_type": "stream",
          "name": "stdout",
          "text": [
            "Collecting ibge\n",
            "  Downloading ibge-0.0.5-py3-none-any.whl.metadata (18 kB)\n",
            "Requirement already satisfied: requests in /usr/local/lib/python3.11/dist-packages (from ibge) (2.32.3)\n",
            "Requirement already satisfied: charset-normalizer<4,>=2 in /usr/local/lib/python3.11/dist-packages (from requests->ibge) (3.4.1)\n",
            "Requirement already satisfied: idna<4,>=2.5 in /usr/local/lib/python3.11/dist-packages (from requests->ibge) (3.10)\n",
            "Requirement already satisfied: urllib3<3,>=1.21.1 in /usr/local/lib/python3.11/dist-packages (from requests->ibge) (2.3.0)\n",
            "Requirement already satisfied: certifi>=2017.4.17 in /usr/local/lib/python3.11/dist-packages (from requests->ibge) (2025.1.31)\n",
            "Downloading ibge-0.0.5-py3-none-any.whl (6.4 kB)\n",
            "Installing collected packages: ibge\n",
            "Successfully installed ibge-0.0.5\n"
          ]
        }
      ]
    },
    {
      "cell_type": "code",
      "source": [
        "# Importando os pacotes da biblioteca de localidades\n",
        "from ibge.localidades import *"
      ],
      "metadata": {
        "id": "0kBVZm3b4Bkv"
      },
      "execution_count": 4,
      "outputs": []
    },
    {
      "cell_type": "code",
      "source": [
        "# Função Estados() retorna um objeto do tipo ibge.localidades.Estados\n",
        "dados = Estados()\n",
        "#dados = Municipios()"
      ],
      "metadata": {
        "id": "CzZd-nZM4IZT"
      },
      "execution_count": 5,
      "outputs": []
    },
    {
      "cell_type": "code",
      "source": [
        "type(dados)"
      ],
      "metadata": {
        "colab": {
          "base_uri": "https://localhost:8080/",
          "height": 0
        },
        "id": "eThMclIQ4LPM",
        "outputId": "5c461c04-6724-47a2-e953-56c99938d195"
      },
      "execution_count": 6,
      "outputs": [
        {
          "output_type": "execute_result",
          "data": {
            "text/plain": [
              "ibge.localidades.Estados"
            ],
            "text/html": [
              "<div style=\"max-width:800px; border: 1px solid var(--colab-border-color);\"><style>\n",
              "      pre.function-repr-contents {\n",
              "        overflow-x: auto;\n",
              "        padding: 8px 12px;\n",
              "        max-height: 500px;\n",
              "      }\n",
              "\n",
              "      pre.function-repr-contents.function-repr-contents-collapsed {\n",
              "        cursor: pointer;\n",
              "        max-height: 100px;\n",
              "      }\n",
              "    </style>\n",
              "    <pre style=\"white-space: initial; background:\n",
              "         var(--colab-secondary-surface-color); padding: 8px 12px;\n",
              "         border-bottom: 1px solid var(--colab-border-color);\"><b>ibge.localidades.Estados</b><br/>def __init__(json_ibge=None)</pre><pre class=\"function-repr-contents function-repr-contents-collapsed\" style=\"\"><a class=\"filepath\" style=\"display:none\" href=\"#\">/usr/local/lib/python3.11/dist-packages/ibge/localidades.py</a>&lt;no docstring&gt;</pre>\n",
              "      <script>\n",
              "      if (google.colab.kernel.accessAllowed && google.colab.files && google.colab.files.view) {\n",
              "        for (const element of document.querySelectorAll('.filepath')) {\n",
              "          element.style.display = 'block'\n",
              "          element.onclick = (event) => {\n",
              "            event.preventDefault();\n",
              "            event.stopPropagation();\n",
              "            google.colab.files.view(element.textContent, 45);\n",
              "          };\n",
              "        }\n",
              "      }\n",
              "      for (const element of document.querySelectorAll('.function-repr-contents')) {\n",
              "        element.onclick = (event) => {\n",
              "          event.preventDefault();\n",
              "          event.stopPropagation();\n",
              "          element.classList.toggle('function-repr-contents-collapsed');\n",
              "        };\n",
              "      }\n",
              "      </script>\n",
              "      </div>"
            ]
          },
          "metadata": {},
          "execution_count": 6
        }
      ]
    },
    {
      "cell_type": "code",
      "source": [
        "regiao = dados.json()"
      ],
      "metadata": {
        "id": "k9UXQBkC4PSH"
      },
      "execution_count": 7,
      "outputs": []
    },
    {
      "cell_type": "code",
      "source": [
        "#pandas json_normalize ler a string JSON aninhada e devolver um DataFrame.\n",
        "estados_br = pd.json_normalize(regiao)"
      ],
      "metadata": {
        "id": "qTvu9Wi54S4L"
      },
      "execution_count": 8,
      "outputs": []
    },
    {
      "cell_type": "code",
      "source": [
        "estados_br.info()"
      ],
      "metadata": {
        "colab": {
          "base_uri": "https://localhost:8080/"
        },
        "id": "2pG5VF_P4U51",
        "outputId": "1dcb8703-a68b-4f8e-d198-bbec82cfafb9"
      },
      "execution_count": 9,
      "outputs": [
        {
          "output_type": "stream",
          "name": "stdout",
          "text": [
            "<class 'pandas.core.frame.DataFrame'>\n",
            "RangeIndex: 27 entries, 0 to 26\n",
            "Data columns (total 6 columns):\n",
            " #   Column        Non-Null Count  Dtype \n",
            "---  ------        --------------  ----- \n",
            " 0   id            27 non-null     int64 \n",
            " 1   sigla         27 non-null     object\n",
            " 2   nome          27 non-null     object\n",
            " 3   regiao.id     27 non-null     int64 \n",
            " 4   regiao.sigla  27 non-null     object\n",
            " 5   regiao.nome   27 non-null     object\n",
            "dtypes: int64(2), object(4)\n",
            "memory usage: 1.4+ KB\n"
          ]
        }
      ]
    },
    {
      "cell_type": "code",
      "source": [
        "# Criar um data frame com as colunas que iremos utilizar\n",
        "tb_regiao = estados_br[['sigla',\n",
        "                            'nome',\n",
        "                            'regiao.nome'\n",
        "                          ]]"
      ],
      "metadata": {
        "id": "FtKFjia37aXU"
      },
      "execution_count": 10,
      "outputs": []
    },
    {
      "cell_type": "code",
      "source": [
        "#renomear colunas\n",
        "tb_regiao = tb_regiao.rename(columns={'sigla': 'uf',\n",
        "                                      'nome': 'uf_nome',\n",
        "                                'regiao.nome': 'regiao'\n",
        "                                })"
      ],
      "metadata": {
        "id": "csV-JVEw9Lz1"
      },
      "execution_count": 11,
      "outputs": []
    },
    {
      "cell_type": "markdown",
      "source": [
        "#**<font color=#4c60d6 size=\"6\"> 3. Análise de Dados Inicial**"
      ],
      "metadata": {
        "id": "gdE5bYAZ09V5"
      }
    },
    {
      "cell_type": "markdown",
      "source": [
        "###**<font color=#4c60d6> 3.1. Estatísticas Descritivas**"
      ],
      "metadata": {
        "id": "a443BOfV1BoA"
      }
    },
    {
      "cell_type": "code",
      "source": [
        "#\tQuantidade de atributos e instâncias (linhas/colunas)\n",
        "df_acidentes.shape"
      ],
      "metadata": {
        "colab": {
          "base_uri": "https://localhost:8080/"
        },
        "id": "aamTv-D61CdW",
        "outputId": "da65345c-fe55-4e2a-86a4-a4b2f2ee8fc5"
      },
      "execution_count": 12,
      "outputs": [
        {
          "output_type": "execute_result",
          "data": {
            "text/plain": [
              "(73156, 30)"
            ]
          },
          "metadata": {},
          "execution_count": 12
        }
      ]
    },
    {
      "cell_type": "markdown",
      "source": [
        "\n",
        "\n",
        "---\n",
        "\n"
      ],
      "metadata": {
        "id": "HfWklQhy1QOU"
      }
    },
    {
      "cell_type": "code",
      "source": [
        "# Exibir os 5 primeiros registros\n",
        "df_acidentes.head(5)"
      ],
      "metadata": {
        "colab": {
          "base_uri": "https://localhost:8080/",
          "height": 446
        },
        "id": "uyxufj801RkY",
        "outputId": "124525db-ec6e-4e31-da28-e353e25877dd"
      },
      "execution_count": 13,
      "outputs": [
        {
          "output_type": "execute_result",
          "data": {
            "text/plain": [
              "         id data_inversa     dia_semana   horario  uf   br   km  \\\n",
              "0  571789.0   2024-01-01  segunda-feira  03:56:00  ES  101   38   \n",
              "1  571804.0   2024-01-01  segunda-feira  04:50:00  PI  343  185   \n",
              "2  571806.0   2024-01-01  segunda-feira  04:30:00  BA  116  578   \n",
              "3  571818.0   2024-01-01  segunda-feira  06:30:00  SE  101   18   \n",
              "4  571838.0   2024-01-01  segunda-feira  05:00:00  MT  364  240   \n",
              "\n",
              "            municipio                                     causa_acidente  \\\n",
              "0  CONCEICAO DA BARRA                             Ultrapassagem Indevida   \n",
              "1            PIRIPIRI                        Manobra de mudança de faixa   \n",
              "2             BREJOES                   Ingestão de álcool pelo condutor   \n",
              "3    MALHADA DOS BOIS           Reação tardia ou ineficiente do condutor   \n",
              "4        RONDONOPOLIS  Condutor deixou de manter distância do veículo...   \n",
              "\n",
              "                    tipo_acidente  ... feridos_graves ilesos ignorados  \\\n",
              "0  Colisão lateral sentido oposto  ...              1      1         1   \n",
              "1                 Colisão frontal  ...              0      1         0   \n",
              "2                 Colisão frontal  ...              0      1         2   \n",
              "3       Saída de leito carroçável  ...              1      0         2   \n",
              "4                Colisão traseira  ...              0      2         1   \n",
              "\n",
              "  feridos veiculos   latitude  longitude  regional  delegacia             uop  \n",
              "0       1        3 -18.482610 -39.923790   SPRF-ES   DEL04-ES  UOP02-DEL04-ES  \n",
              "1       0        2  -4.296033 -41.767327   SPRF-PI   DEL02-PI  UOP01-DEL02-PI  \n",
              "2       0        4 -13.071583 -39.961111   SPRF-BA   DEL03-BA  UOP02-DEL03-BA  \n",
              "3       1        3 -10.356019 -36.905522   SPRF-SE   DEL02-SE  UOP02-DEL02-SE  \n",
              "4       0        3 -16.179141 -54.789053   SPRF-MT   DEL02-MT  UOP01-DEL02-MT  \n",
              "\n",
              "[5 rows x 30 columns]"
            ],
            "text/html": [
              "\n",
              "  <div id=\"df-de0abee8-c225-490a-bb3d-5d8b6c9517de\" class=\"colab-df-container\">\n",
              "    <div>\n",
              "<style scoped>\n",
              "    .dataframe tbody tr th:only-of-type {\n",
              "        vertical-align: middle;\n",
              "    }\n",
              "\n",
              "    .dataframe tbody tr th {\n",
              "        vertical-align: top;\n",
              "    }\n",
              "\n",
              "    .dataframe thead th {\n",
              "        text-align: right;\n",
              "    }\n",
              "</style>\n",
              "<table border=\"1\" class=\"dataframe\">\n",
              "  <thead>\n",
              "    <tr style=\"text-align: right;\">\n",
              "      <th></th>\n",
              "      <th>id</th>\n",
              "      <th>data_inversa</th>\n",
              "      <th>dia_semana</th>\n",
              "      <th>horario</th>\n",
              "      <th>uf</th>\n",
              "      <th>br</th>\n",
              "      <th>km</th>\n",
              "      <th>municipio</th>\n",
              "      <th>causa_acidente</th>\n",
              "      <th>tipo_acidente</th>\n",
              "      <th>...</th>\n",
              "      <th>feridos_graves</th>\n",
              "      <th>ilesos</th>\n",
              "      <th>ignorados</th>\n",
              "      <th>feridos</th>\n",
              "      <th>veiculos</th>\n",
              "      <th>latitude</th>\n",
              "      <th>longitude</th>\n",
              "      <th>regional</th>\n",
              "      <th>delegacia</th>\n",
              "      <th>uop</th>\n",
              "    </tr>\n",
              "  </thead>\n",
              "  <tbody>\n",
              "    <tr>\n",
              "      <th>0</th>\n",
              "      <td>571789.0</td>\n",
              "      <td>2024-01-01</td>\n",
              "      <td>segunda-feira</td>\n",
              "      <td>03:56:00</td>\n",
              "      <td>ES</td>\n",
              "      <td>101</td>\n",
              "      <td>38</td>\n",
              "      <td>CONCEICAO DA BARRA</td>\n",
              "      <td>Ultrapassagem Indevida</td>\n",
              "      <td>Colisão lateral sentido oposto</td>\n",
              "      <td>...</td>\n",
              "      <td>1</td>\n",
              "      <td>1</td>\n",
              "      <td>1</td>\n",
              "      <td>1</td>\n",
              "      <td>3</td>\n",
              "      <td>-18.482610</td>\n",
              "      <td>-39.923790</td>\n",
              "      <td>SPRF-ES</td>\n",
              "      <td>DEL04-ES</td>\n",
              "      <td>UOP02-DEL04-ES</td>\n",
              "    </tr>\n",
              "    <tr>\n",
              "      <th>1</th>\n",
              "      <td>571804.0</td>\n",
              "      <td>2024-01-01</td>\n",
              "      <td>segunda-feira</td>\n",
              "      <td>04:50:00</td>\n",
              "      <td>PI</td>\n",
              "      <td>343</td>\n",
              "      <td>185</td>\n",
              "      <td>PIRIPIRI</td>\n",
              "      <td>Manobra de mudança de faixa</td>\n",
              "      <td>Colisão frontal</td>\n",
              "      <td>...</td>\n",
              "      <td>0</td>\n",
              "      <td>1</td>\n",
              "      <td>0</td>\n",
              "      <td>0</td>\n",
              "      <td>2</td>\n",
              "      <td>-4.296033</td>\n",
              "      <td>-41.767327</td>\n",
              "      <td>SPRF-PI</td>\n",
              "      <td>DEL02-PI</td>\n",
              "      <td>UOP01-DEL02-PI</td>\n",
              "    </tr>\n",
              "    <tr>\n",
              "      <th>2</th>\n",
              "      <td>571806.0</td>\n",
              "      <td>2024-01-01</td>\n",
              "      <td>segunda-feira</td>\n",
              "      <td>04:30:00</td>\n",
              "      <td>BA</td>\n",
              "      <td>116</td>\n",
              "      <td>578</td>\n",
              "      <td>BREJOES</td>\n",
              "      <td>Ingestão de álcool pelo condutor</td>\n",
              "      <td>Colisão frontal</td>\n",
              "      <td>...</td>\n",
              "      <td>0</td>\n",
              "      <td>1</td>\n",
              "      <td>2</td>\n",
              "      <td>0</td>\n",
              "      <td>4</td>\n",
              "      <td>-13.071583</td>\n",
              "      <td>-39.961111</td>\n",
              "      <td>SPRF-BA</td>\n",
              "      <td>DEL03-BA</td>\n",
              "      <td>UOP02-DEL03-BA</td>\n",
              "    </tr>\n",
              "    <tr>\n",
              "      <th>3</th>\n",
              "      <td>571818.0</td>\n",
              "      <td>2024-01-01</td>\n",
              "      <td>segunda-feira</td>\n",
              "      <td>06:30:00</td>\n",
              "      <td>SE</td>\n",
              "      <td>101</td>\n",
              "      <td>18</td>\n",
              "      <td>MALHADA DOS BOIS</td>\n",
              "      <td>Reação tardia ou ineficiente do condutor</td>\n",
              "      <td>Saída de leito carroçável</td>\n",
              "      <td>...</td>\n",
              "      <td>1</td>\n",
              "      <td>0</td>\n",
              "      <td>2</td>\n",
              "      <td>1</td>\n",
              "      <td>3</td>\n",
              "      <td>-10.356019</td>\n",
              "      <td>-36.905522</td>\n",
              "      <td>SPRF-SE</td>\n",
              "      <td>DEL02-SE</td>\n",
              "      <td>UOP02-DEL02-SE</td>\n",
              "    </tr>\n",
              "    <tr>\n",
              "      <th>4</th>\n",
              "      <td>571838.0</td>\n",
              "      <td>2024-01-01</td>\n",
              "      <td>segunda-feira</td>\n",
              "      <td>05:00:00</td>\n",
              "      <td>MT</td>\n",
              "      <td>364</td>\n",
              "      <td>240</td>\n",
              "      <td>RONDONOPOLIS</td>\n",
              "      <td>Condutor deixou de manter distância do veículo...</td>\n",
              "      <td>Colisão traseira</td>\n",
              "      <td>...</td>\n",
              "      <td>0</td>\n",
              "      <td>2</td>\n",
              "      <td>1</td>\n",
              "      <td>0</td>\n",
              "      <td>3</td>\n",
              "      <td>-16.179141</td>\n",
              "      <td>-54.789053</td>\n",
              "      <td>SPRF-MT</td>\n",
              "      <td>DEL02-MT</td>\n",
              "      <td>UOP01-DEL02-MT</td>\n",
              "    </tr>\n",
              "  </tbody>\n",
              "</table>\n",
              "<p>5 rows × 30 columns</p>\n",
              "</div>\n",
              "    <div class=\"colab-df-buttons\">\n",
              "\n",
              "  <div class=\"colab-df-container\">\n",
              "    <button class=\"colab-df-convert\" onclick=\"convertToInteractive('df-de0abee8-c225-490a-bb3d-5d8b6c9517de')\"\n",
              "            title=\"Convert this dataframe to an interactive table.\"\n",
              "            style=\"display:none;\">\n",
              "\n",
              "  <svg xmlns=\"http://www.w3.org/2000/svg\" height=\"24px\" viewBox=\"0 -960 960 960\">\n",
              "    <path d=\"M120-120v-720h720v720H120Zm60-500h600v-160H180v160Zm220 220h160v-160H400v160Zm0 220h160v-160H400v160ZM180-400h160v-160H180v160Zm440 0h160v-160H620v160ZM180-180h160v-160H180v160Zm440 0h160v-160H620v160Z\"/>\n",
              "  </svg>\n",
              "    </button>\n",
              "\n",
              "  <style>\n",
              "    .colab-df-container {\n",
              "      display:flex;\n",
              "      gap: 12px;\n",
              "    }\n",
              "\n",
              "    .colab-df-convert {\n",
              "      background-color: #E8F0FE;\n",
              "      border: none;\n",
              "      border-radius: 50%;\n",
              "      cursor: pointer;\n",
              "      display: none;\n",
              "      fill: #1967D2;\n",
              "      height: 32px;\n",
              "      padding: 0 0 0 0;\n",
              "      width: 32px;\n",
              "    }\n",
              "\n",
              "    .colab-df-convert:hover {\n",
              "      background-color: #E2EBFA;\n",
              "      box-shadow: 0px 1px 2px rgba(60, 64, 67, 0.3), 0px 1px 3px 1px rgba(60, 64, 67, 0.15);\n",
              "      fill: #174EA6;\n",
              "    }\n",
              "\n",
              "    .colab-df-buttons div {\n",
              "      margin-bottom: 4px;\n",
              "    }\n",
              "\n",
              "    [theme=dark] .colab-df-convert {\n",
              "      background-color: #3B4455;\n",
              "      fill: #D2E3FC;\n",
              "    }\n",
              "\n",
              "    [theme=dark] .colab-df-convert:hover {\n",
              "      background-color: #434B5C;\n",
              "      box-shadow: 0px 1px 3px 1px rgba(0, 0, 0, 0.15);\n",
              "      filter: drop-shadow(0px 1px 2px rgba(0, 0, 0, 0.3));\n",
              "      fill: #FFFFFF;\n",
              "    }\n",
              "  </style>\n",
              "\n",
              "    <script>\n",
              "      const buttonEl =\n",
              "        document.querySelector('#df-de0abee8-c225-490a-bb3d-5d8b6c9517de button.colab-df-convert');\n",
              "      buttonEl.style.display =\n",
              "        google.colab.kernel.accessAllowed ? 'block' : 'none';\n",
              "\n",
              "      async function convertToInteractive(key) {\n",
              "        const element = document.querySelector('#df-de0abee8-c225-490a-bb3d-5d8b6c9517de');\n",
              "        const dataTable =\n",
              "          await google.colab.kernel.invokeFunction('convertToInteractive',\n",
              "                                                    [key], {});\n",
              "        if (!dataTable) return;\n",
              "\n",
              "        const docLinkHtml = 'Like what you see? Visit the ' +\n",
              "          '<a target=\"_blank\" href=https://colab.research.google.com/notebooks/data_table.ipynb>data table notebook</a>'\n",
              "          + ' to learn more about interactive tables.';\n",
              "        element.innerHTML = '';\n",
              "        dataTable['output_type'] = 'display_data';\n",
              "        await google.colab.output.renderOutput(dataTable, element);\n",
              "        const docLink = document.createElement('div');\n",
              "        docLink.innerHTML = docLinkHtml;\n",
              "        element.appendChild(docLink);\n",
              "      }\n",
              "    </script>\n",
              "  </div>\n",
              "\n",
              "\n",
              "<div id=\"df-06d261a7-fbd8-4c2e-9fdb-99fe23be1b2e\">\n",
              "  <button class=\"colab-df-quickchart\" onclick=\"quickchart('df-06d261a7-fbd8-4c2e-9fdb-99fe23be1b2e')\"\n",
              "            title=\"Suggest charts\"\n",
              "            style=\"display:none;\">\n",
              "\n",
              "<svg xmlns=\"http://www.w3.org/2000/svg\" height=\"24px\"viewBox=\"0 0 24 24\"\n",
              "     width=\"24px\">\n",
              "    <g>\n",
              "        <path d=\"M19 3H5c-1.1 0-2 .9-2 2v14c0 1.1.9 2 2 2h14c1.1 0 2-.9 2-2V5c0-1.1-.9-2-2-2zM9 17H7v-7h2v7zm4 0h-2V7h2v10zm4 0h-2v-4h2v4z\"/>\n",
              "    </g>\n",
              "</svg>\n",
              "  </button>\n",
              "\n",
              "<style>\n",
              "  .colab-df-quickchart {\n",
              "      --bg-color: #E8F0FE;\n",
              "      --fill-color: #1967D2;\n",
              "      --hover-bg-color: #E2EBFA;\n",
              "      --hover-fill-color: #174EA6;\n",
              "      --disabled-fill-color: #AAA;\n",
              "      --disabled-bg-color: #DDD;\n",
              "  }\n",
              "\n",
              "  [theme=dark] .colab-df-quickchart {\n",
              "      --bg-color: #3B4455;\n",
              "      --fill-color: #D2E3FC;\n",
              "      --hover-bg-color: #434B5C;\n",
              "      --hover-fill-color: #FFFFFF;\n",
              "      --disabled-bg-color: #3B4455;\n",
              "      --disabled-fill-color: #666;\n",
              "  }\n",
              "\n",
              "  .colab-df-quickchart {\n",
              "    background-color: var(--bg-color);\n",
              "    border: none;\n",
              "    border-radius: 50%;\n",
              "    cursor: pointer;\n",
              "    display: none;\n",
              "    fill: var(--fill-color);\n",
              "    height: 32px;\n",
              "    padding: 0;\n",
              "    width: 32px;\n",
              "  }\n",
              "\n",
              "  .colab-df-quickchart:hover {\n",
              "    background-color: var(--hover-bg-color);\n",
              "    box-shadow: 0 1px 2px rgba(60, 64, 67, 0.3), 0 1px 3px 1px rgba(60, 64, 67, 0.15);\n",
              "    fill: var(--button-hover-fill-color);\n",
              "  }\n",
              "\n",
              "  .colab-df-quickchart-complete:disabled,\n",
              "  .colab-df-quickchart-complete:disabled:hover {\n",
              "    background-color: var(--disabled-bg-color);\n",
              "    fill: var(--disabled-fill-color);\n",
              "    box-shadow: none;\n",
              "  }\n",
              "\n",
              "  .colab-df-spinner {\n",
              "    border: 2px solid var(--fill-color);\n",
              "    border-color: transparent;\n",
              "    border-bottom-color: var(--fill-color);\n",
              "    animation:\n",
              "      spin 1s steps(1) infinite;\n",
              "  }\n",
              "\n",
              "  @keyframes spin {\n",
              "    0% {\n",
              "      border-color: transparent;\n",
              "      border-bottom-color: var(--fill-color);\n",
              "      border-left-color: var(--fill-color);\n",
              "    }\n",
              "    20% {\n",
              "      border-color: transparent;\n",
              "      border-left-color: var(--fill-color);\n",
              "      border-top-color: var(--fill-color);\n",
              "    }\n",
              "    30% {\n",
              "      border-color: transparent;\n",
              "      border-left-color: var(--fill-color);\n",
              "      border-top-color: var(--fill-color);\n",
              "      border-right-color: var(--fill-color);\n",
              "    }\n",
              "    40% {\n",
              "      border-color: transparent;\n",
              "      border-right-color: var(--fill-color);\n",
              "      border-top-color: var(--fill-color);\n",
              "    }\n",
              "    60% {\n",
              "      border-color: transparent;\n",
              "      border-right-color: var(--fill-color);\n",
              "    }\n",
              "    80% {\n",
              "      border-color: transparent;\n",
              "      border-right-color: var(--fill-color);\n",
              "      border-bottom-color: var(--fill-color);\n",
              "    }\n",
              "    90% {\n",
              "      border-color: transparent;\n",
              "      border-bottom-color: var(--fill-color);\n",
              "    }\n",
              "  }\n",
              "</style>\n",
              "\n",
              "  <script>\n",
              "    async function quickchart(key) {\n",
              "      const quickchartButtonEl =\n",
              "        document.querySelector('#' + key + ' button');\n",
              "      quickchartButtonEl.disabled = true;  // To prevent multiple clicks.\n",
              "      quickchartButtonEl.classList.add('colab-df-spinner');\n",
              "      try {\n",
              "        const charts = await google.colab.kernel.invokeFunction(\n",
              "            'suggestCharts', [key], {});\n",
              "      } catch (error) {\n",
              "        console.error('Error during call to suggestCharts:', error);\n",
              "      }\n",
              "      quickchartButtonEl.classList.remove('colab-df-spinner');\n",
              "      quickchartButtonEl.classList.add('colab-df-quickchart-complete');\n",
              "    }\n",
              "    (() => {\n",
              "      let quickchartButtonEl =\n",
              "        document.querySelector('#df-06d261a7-fbd8-4c2e-9fdb-99fe23be1b2e button');\n",
              "      quickchartButtonEl.style.display =\n",
              "        google.colab.kernel.accessAllowed ? 'block' : 'none';\n",
              "    })();\n",
              "  </script>\n",
              "</div>\n",
              "\n",
              "    </div>\n",
              "  </div>\n"
            ],
            "application/vnd.google.colaboratory.intrinsic+json": {
              "type": "dataframe",
              "variable_name": "df_acidentes"
            }
          },
          "metadata": {},
          "execution_count": 13
        }
      ]
    },
    {
      "cell_type": "markdown",
      "source": [
        "\n",
        "\n",
        "---\n",
        "\n"
      ],
      "metadata": {
        "id": "zuhD9_B71Y-v"
      }
    },
    {
      "cell_type": "code",
      "source": [
        "# Mostra diversas informações do Dataframe em um único comando, e exibir o uso de memória\n",
        "df_acidentes.info(memory_usage=\"deep\")"
      ],
      "metadata": {
        "colab": {
          "base_uri": "https://localhost:8080/"
        },
        "id": "bGIXofn_1Zx_",
        "outputId": "fc31986f-bad9-44b1-f64e-3c3e555f562a"
      },
      "execution_count": 14,
      "outputs": [
        {
          "output_type": "stream",
          "name": "stdout",
          "text": [
            "<class 'pandas.core.frame.DataFrame'>\n",
            "RangeIndex: 73156 entries, 0 to 73155\n",
            "Data columns (total 30 columns):\n",
            " #   Column                  Non-Null Count  Dtype  \n",
            "---  ------                  --------------  -----  \n",
            " 0   id                      73156 non-null  float64\n",
            " 1   data_inversa            73156 non-null  object \n",
            " 2   dia_semana              73156 non-null  object \n",
            " 3   horario                 73156 non-null  object \n",
            " 4   uf                      73156 non-null  object \n",
            " 5   br                      73156 non-null  int64  \n",
            " 6   km                      73156 non-null  object \n",
            " 7   municipio               73156 non-null  object \n",
            " 8   causa_acidente          73156 non-null  object \n",
            " 9   tipo_acidente           73156 non-null  object \n",
            " 10  classificacao_acidente  73155 non-null  object \n",
            " 11  fase_dia                73156 non-null  object \n",
            " 12  sentido_via             73156 non-null  object \n",
            " 13  condicao_metereologica  73156 non-null  object \n",
            " 14  tipo_pista              73156 non-null  object \n",
            " 15  tracado_via             73156 non-null  object \n",
            " 16  uso_solo                73156 non-null  object \n",
            " 17  pessoas                 73156 non-null  int64  \n",
            " 18  mortos                  73156 non-null  int64  \n",
            " 19  feridos_leves           73156 non-null  int64  \n",
            " 20  feridos_graves          73156 non-null  int64  \n",
            " 21  ilesos                  73156 non-null  int64  \n",
            " 22  ignorados               73156 non-null  int64  \n",
            " 23  feridos                 73156 non-null  int64  \n",
            " 24  veiculos                73156 non-null  int64  \n",
            " 25  latitude                73156 non-null  float64\n",
            " 26  longitude               73156 non-null  float64\n",
            " 27  regional                73153 non-null  object \n",
            " 28  delegacia               73120 non-null  object \n",
            " 29  uop                     73044 non-null  object \n",
            "dtypes: float64(3), int64(9), object(18)\n",
            "memory usage: 98.7 MB\n"
          ]
        }
      ]
    },
    {
      "cell_type": "markdown",
      "source": [
        "\n",
        "\n",
        "---\n",
        "\n"
      ],
      "metadata": {
        "id": "CLA47rDa1dO8"
      }
    },
    {
      "cell_type": "code",
      "source": [
        "# Quantidade de valores únicos\n",
        "df_acidentes.nunique()"
      ],
      "metadata": {
        "colab": {
          "base_uri": "https://localhost:8080/",
          "height": 1000
        },
        "id": "Imh_TxY61dyu",
        "outputId": "aef2e2af-8bf9-488d-db60-5755d7cdc563"
      },
      "execution_count": 15,
      "outputs": [
        {
          "output_type": "execute_result",
          "data": {
            "text/plain": [
              "id                        73156\n",
              "data_inversa                366\n",
              "dia_semana                    7\n",
              "horario                    1415\n",
              "uf                           27\n",
              "br                          113\n",
              "km                         7683\n",
              "municipio                  1833\n",
              "causa_acidente               69\n",
              "tipo_acidente                17\n",
              "classificacao_acidente        3\n",
              "fase_dia                      4\n",
              "sentido_via                   3\n",
              "condicao_metereologica       10\n",
              "tipo_pista                    3\n",
              "tracado_via                 659\n",
              "uso_solo                      2\n",
              "pessoas                      62\n",
              "mortos                       12\n",
              "feridos_leves                35\n",
              "feridos_graves               18\n",
              "ilesos                       53\n",
              "ignorados                    17\n",
              "feridos                      40\n",
              "veiculos                     20\n",
              "latitude                  37596\n",
              "longitude                 37574\n",
              "regional                     28\n",
              "delegacia                   152\n",
              "uop                         394\n",
              "dtype: int64"
            ],
            "text/html": [
              "<div>\n",
              "<style scoped>\n",
              "    .dataframe tbody tr th:only-of-type {\n",
              "        vertical-align: middle;\n",
              "    }\n",
              "\n",
              "    .dataframe tbody tr th {\n",
              "        vertical-align: top;\n",
              "    }\n",
              "\n",
              "    .dataframe thead th {\n",
              "        text-align: right;\n",
              "    }\n",
              "</style>\n",
              "<table border=\"1\" class=\"dataframe\">\n",
              "  <thead>\n",
              "    <tr style=\"text-align: right;\">\n",
              "      <th></th>\n",
              "      <th>0</th>\n",
              "    </tr>\n",
              "  </thead>\n",
              "  <tbody>\n",
              "    <tr>\n",
              "      <th>id</th>\n",
              "      <td>73156</td>\n",
              "    </tr>\n",
              "    <tr>\n",
              "      <th>data_inversa</th>\n",
              "      <td>366</td>\n",
              "    </tr>\n",
              "    <tr>\n",
              "      <th>dia_semana</th>\n",
              "      <td>7</td>\n",
              "    </tr>\n",
              "    <tr>\n",
              "      <th>horario</th>\n",
              "      <td>1415</td>\n",
              "    </tr>\n",
              "    <tr>\n",
              "      <th>uf</th>\n",
              "      <td>27</td>\n",
              "    </tr>\n",
              "    <tr>\n",
              "      <th>br</th>\n",
              "      <td>113</td>\n",
              "    </tr>\n",
              "    <tr>\n",
              "      <th>km</th>\n",
              "      <td>7683</td>\n",
              "    </tr>\n",
              "    <tr>\n",
              "      <th>municipio</th>\n",
              "      <td>1833</td>\n",
              "    </tr>\n",
              "    <tr>\n",
              "      <th>causa_acidente</th>\n",
              "      <td>69</td>\n",
              "    </tr>\n",
              "    <tr>\n",
              "      <th>tipo_acidente</th>\n",
              "      <td>17</td>\n",
              "    </tr>\n",
              "    <tr>\n",
              "      <th>classificacao_acidente</th>\n",
              "      <td>3</td>\n",
              "    </tr>\n",
              "    <tr>\n",
              "      <th>fase_dia</th>\n",
              "      <td>4</td>\n",
              "    </tr>\n",
              "    <tr>\n",
              "      <th>sentido_via</th>\n",
              "      <td>3</td>\n",
              "    </tr>\n",
              "    <tr>\n",
              "      <th>condicao_metereologica</th>\n",
              "      <td>10</td>\n",
              "    </tr>\n",
              "    <tr>\n",
              "      <th>tipo_pista</th>\n",
              "      <td>3</td>\n",
              "    </tr>\n",
              "    <tr>\n",
              "      <th>tracado_via</th>\n",
              "      <td>659</td>\n",
              "    </tr>\n",
              "    <tr>\n",
              "      <th>uso_solo</th>\n",
              "      <td>2</td>\n",
              "    </tr>\n",
              "    <tr>\n",
              "      <th>pessoas</th>\n",
              "      <td>62</td>\n",
              "    </tr>\n",
              "    <tr>\n",
              "      <th>mortos</th>\n",
              "      <td>12</td>\n",
              "    </tr>\n",
              "    <tr>\n",
              "      <th>feridos_leves</th>\n",
              "      <td>35</td>\n",
              "    </tr>\n",
              "    <tr>\n",
              "      <th>feridos_graves</th>\n",
              "      <td>18</td>\n",
              "    </tr>\n",
              "    <tr>\n",
              "      <th>ilesos</th>\n",
              "      <td>53</td>\n",
              "    </tr>\n",
              "    <tr>\n",
              "      <th>ignorados</th>\n",
              "      <td>17</td>\n",
              "    </tr>\n",
              "    <tr>\n",
              "      <th>feridos</th>\n",
              "      <td>40</td>\n",
              "    </tr>\n",
              "    <tr>\n",
              "      <th>veiculos</th>\n",
              "      <td>20</td>\n",
              "    </tr>\n",
              "    <tr>\n",
              "      <th>latitude</th>\n",
              "      <td>37596</td>\n",
              "    </tr>\n",
              "    <tr>\n",
              "      <th>longitude</th>\n",
              "      <td>37574</td>\n",
              "    </tr>\n",
              "    <tr>\n",
              "      <th>regional</th>\n",
              "      <td>28</td>\n",
              "    </tr>\n",
              "    <tr>\n",
              "      <th>delegacia</th>\n",
              "      <td>152</td>\n",
              "    </tr>\n",
              "    <tr>\n",
              "      <th>uop</th>\n",
              "      <td>394</td>\n",
              "    </tr>\n",
              "  </tbody>\n",
              "</table>\n",
              "</div><br><label><b>dtype:</b> int64</label>"
            ]
          },
          "metadata": {},
          "execution_count": 15
        }
      ]
    },
    {
      "cell_type": "markdown",
      "source": [
        "\n",
        "\n",
        "---\n",
        "\n"
      ],
      "metadata": {
        "id": "dH4tp_aj1lHI"
      }
    },
    {
      "cell_type": "code",
      "source": [
        "# Quantidade de NaN/Missing/Nulls no dataframe\n",
        "df_acidentes.isnull().sum()"
      ],
      "metadata": {
        "colab": {
          "base_uri": "https://localhost:8080/",
          "height": 1000
        },
        "id": "-i4SRTII1kR-",
        "outputId": "89bb93b3-b710-43c2-db62-814ae54bcfd1"
      },
      "execution_count": 16,
      "outputs": [
        {
          "output_type": "execute_result",
          "data": {
            "text/plain": [
              "id                          0\n",
              "data_inversa                0\n",
              "dia_semana                  0\n",
              "horario                     0\n",
              "uf                          0\n",
              "br                          0\n",
              "km                          0\n",
              "municipio                   0\n",
              "causa_acidente              0\n",
              "tipo_acidente               0\n",
              "classificacao_acidente      1\n",
              "fase_dia                    0\n",
              "sentido_via                 0\n",
              "condicao_metereologica      0\n",
              "tipo_pista                  0\n",
              "tracado_via                 0\n",
              "uso_solo                    0\n",
              "pessoas                     0\n",
              "mortos                      0\n",
              "feridos_leves               0\n",
              "feridos_graves              0\n",
              "ilesos                      0\n",
              "ignorados                   0\n",
              "feridos                     0\n",
              "veiculos                    0\n",
              "latitude                    0\n",
              "longitude                   0\n",
              "regional                    3\n",
              "delegacia                  36\n",
              "uop                       112\n",
              "dtype: int64"
            ],
            "text/html": [
              "<div>\n",
              "<style scoped>\n",
              "    .dataframe tbody tr th:only-of-type {\n",
              "        vertical-align: middle;\n",
              "    }\n",
              "\n",
              "    .dataframe tbody tr th {\n",
              "        vertical-align: top;\n",
              "    }\n",
              "\n",
              "    .dataframe thead th {\n",
              "        text-align: right;\n",
              "    }\n",
              "</style>\n",
              "<table border=\"1\" class=\"dataframe\">\n",
              "  <thead>\n",
              "    <tr style=\"text-align: right;\">\n",
              "      <th></th>\n",
              "      <th>0</th>\n",
              "    </tr>\n",
              "  </thead>\n",
              "  <tbody>\n",
              "    <tr>\n",
              "      <th>id</th>\n",
              "      <td>0</td>\n",
              "    </tr>\n",
              "    <tr>\n",
              "      <th>data_inversa</th>\n",
              "      <td>0</td>\n",
              "    </tr>\n",
              "    <tr>\n",
              "      <th>dia_semana</th>\n",
              "      <td>0</td>\n",
              "    </tr>\n",
              "    <tr>\n",
              "      <th>horario</th>\n",
              "      <td>0</td>\n",
              "    </tr>\n",
              "    <tr>\n",
              "      <th>uf</th>\n",
              "      <td>0</td>\n",
              "    </tr>\n",
              "    <tr>\n",
              "      <th>br</th>\n",
              "      <td>0</td>\n",
              "    </tr>\n",
              "    <tr>\n",
              "      <th>km</th>\n",
              "      <td>0</td>\n",
              "    </tr>\n",
              "    <tr>\n",
              "      <th>municipio</th>\n",
              "      <td>0</td>\n",
              "    </tr>\n",
              "    <tr>\n",
              "      <th>causa_acidente</th>\n",
              "      <td>0</td>\n",
              "    </tr>\n",
              "    <tr>\n",
              "      <th>tipo_acidente</th>\n",
              "      <td>0</td>\n",
              "    </tr>\n",
              "    <tr>\n",
              "      <th>classificacao_acidente</th>\n",
              "      <td>1</td>\n",
              "    </tr>\n",
              "    <tr>\n",
              "      <th>fase_dia</th>\n",
              "      <td>0</td>\n",
              "    </tr>\n",
              "    <tr>\n",
              "      <th>sentido_via</th>\n",
              "      <td>0</td>\n",
              "    </tr>\n",
              "    <tr>\n",
              "      <th>condicao_metereologica</th>\n",
              "      <td>0</td>\n",
              "    </tr>\n",
              "    <tr>\n",
              "      <th>tipo_pista</th>\n",
              "      <td>0</td>\n",
              "    </tr>\n",
              "    <tr>\n",
              "      <th>tracado_via</th>\n",
              "      <td>0</td>\n",
              "    </tr>\n",
              "    <tr>\n",
              "      <th>uso_solo</th>\n",
              "      <td>0</td>\n",
              "    </tr>\n",
              "    <tr>\n",
              "      <th>pessoas</th>\n",
              "      <td>0</td>\n",
              "    </tr>\n",
              "    <tr>\n",
              "      <th>mortos</th>\n",
              "      <td>0</td>\n",
              "    </tr>\n",
              "    <tr>\n",
              "      <th>feridos_leves</th>\n",
              "      <td>0</td>\n",
              "    </tr>\n",
              "    <tr>\n",
              "      <th>feridos_graves</th>\n",
              "      <td>0</td>\n",
              "    </tr>\n",
              "    <tr>\n",
              "      <th>ilesos</th>\n",
              "      <td>0</td>\n",
              "    </tr>\n",
              "    <tr>\n",
              "      <th>ignorados</th>\n",
              "      <td>0</td>\n",
              "    </tr>\n",
              "    <tr>\n",
              "      <th>feridos</th>\n",
              "      <td>0</td>\n",
              "    </tr>\n",
              "    <tr>\n",
              "      <th>veiculos</th>\n",
              "      <td>0</td>\n",
              "    </tr>\n",
              "    <tr>\n",
              "      <th>latitude</th>\n",
              "      <td>0</td>\n",
              "    </tr>\n",
              "    <tr>\n",
              "      <th>longitude</th>\n",
              "      <td>0</td>\n",
              "    </tr>\n",
              "    <tr>\n",
              "      <th>regional</th>\n",
              "      <td>3</td>\n",
              "    </tr>\n",
              "    <tr>\n",
              "      <th>delegacia</th>\n",
              "      <td>36</td>\n",
              "    </tr>\n",
              "    <tr>\n",
              "      <th>uop</th>\n",
              "      <td>112</td>\n",
              "    </tr>\n",
              "  </tbody>\n",
              "</table>\n",
              "</div><br><label><b>dtype:</b> int64</label>"
            ]
          },
          "metadata": {},
          "execution_count": 16
        }
      ]
    },
    {
      "cell_type": "code",
      "source": [
        "# Quantidade de NaN/Missing/Nulls no dataframe\n",
        "df_acidentes_2023.isnull().sum()"
      ],
      "metadata": {
        "colab": {
          "base_uri": "https://localhost:8080/",
          "height": 1000
        },
        "id": "eHM-nezxvEch",
        "outputId": "df4b9923-37b3-4091-a741-0285afe4cc2c"
      },
      "execution_count": 17,
      "outputs": [
        {
          "output_type": "execute_result",
          "data": {
            "text/plain": [
              "id                         0\n",
              "data_inversa               0\n",
              "dia_semana                 0\n",
              "horario                    0\n",
              "uf                         0\n",
              "br                         0\n",
              "km                         0\n",
              "municipio                  0\n",
              "causa_acidente             0\n",
              "tipo_acidente              0\n",
              "classificacao_acidente     1\n",
              "fase_dia                   0\n",
              "sentido_via                0\n",
              "condicao_metereologica     0\n",
              "tipo_pista                 0\n",
              "tracado_via                0\n",
              "uso_solo                   0\n",
              "pessoas                    0\n",
              "mortos                     0\n",
              "feridos_leves              0\n",
              "feridos_graves             0\n",
              "ilesos                     0\n",
              "ignorados                  0\n",
              "feridos                    0\n",
              "veiculos                   0\n",
              "latitude                   0\n",
              "longitude                  0\n",
              "regional                  17\n",
              "delegacia                 32\n",
              "uop                       46\n",
              "dtype: int64"
            ],
            "text/html": [
              "<div>\n",
              "<style scoped>\n",
              "    .dataframe tbody tr th:only-of-type {\n",
              "        vertical-align: middle;\n",
              "    }\n",
              "\n",
              "    .dataframe tbody tr th {\n",
              "        vertical-align: top;\n",
              "    }\n",
              "\n",
              "    .dataframe thead th {\n",
              "        text-align: right;\n",
              "    }\n",
              "</style>\n",
              "<table border=\"1\" class=\"dataframe\">\n",
              "  <thead>\n",
              "    <tr style=\"text-align: right;\">\n",
              "      <th></th>\n",
              "      <th>0</th>\n",
              "    </tr>\n",
              "  </thead>\n",
              "  <tbody>\n",
              "    <tr>\n",
              "      <th>id</th>\n",
              "      <td>0</td>\n",
              "    </tr>\n",
              "    <tr>\n",
              "      <th>data_inversa</th>\n",
              "      <td>0</td>\n",
              "    </tr>\n",
              "    <tr>\n",
              "      <th>dia_semana</th>\n",
              "      <td>0</td>\n",
              "    </tr>\n",
              "    <tr>\n",
              "      <th>horario</th>\n",
              "      <td>0</td>\n",
              "    </tr>\n",
              "    <tr>\n",
              "      <th>uf</th>\n",
              "      <td>0</td>\n",
              "    </tr>\n",
              "    <tr>\n",
              "      <th>br</th>\n",
              "      <td>0</td>\n",
              "    </tr>\n",
              "    <tr>\n",
              "      <th>km</th>\n",
              "      <td>0</td>\n",
              "    </tr>\n",
              "    <tr>\n",
              "      <th>municipio</th>\n",
              "      <td>0</td>\n",
              "    </tr>\n",
              "    <tr>\n",
              "      <th>causa_acidente</th>\n",
              "      <td>0</td>\n",
              "    </tr>\n",
              "    <tr>\n",
              "      <th>tipo_acidente</th>\n",
              "      <td>0</td>\n",
              "    </tr>\n",
              "    <tr>\n",
              "      <th>classificacao_acidente</th>\n",
              "      <td>1</td>\n",
              "    </tr>\n",
              "    <tr>\n",
              "      <th>fase_dia</th>\n",
              "      <td>0</td>\n",
              "    </tr>\n",
              "    <tr>\n",
              "      <th>sentido_via</th>\n",
              "      <td>0</td>\n",
              "    </tr>\n",
              "    <tr>\n",
              "      <th>condicao_metereologica</th>\n",
              "      <td>0</td>\n",
              "    </tr>\n",
              "    <tr>\n",
              "      <th>tipo_pista</th>\n",
              "      <td>0</td>\n",
              "    </tr>\n",
              "    <tr>\n",
              "      <th>tracado_via</th>\n",
              "      <td>0</td>\n",
              "    </tr>\n",
              "    <tr>\n",
              "      <th>uso_solo</th>\n",
              "      <td>0</td>\n",
              "    </tr>\n",
              "    <tr>\n",
              "      <th>pessoas</th>\n",
              "      <td>0</td>\n",
              "    </tr>\n",
              "    <tr>\n",
              "      <th>mortos</th>\n",
              "      <td>0</td>\n",
              "    </tr>\n",
              "    <tr>\n",
              "      <th>feridos_leves</th>\n",
              "      <td>0</td>\n",
              "    </tr>\n",
              "    <tr>\n",
              "      <th>feridos_graves</th>\n",
              "      <td>0</td>\n",
              "    </tr>\n",
              "    <tr>\n",
              "      <th>ilesos</th>\n",
              "      <td>0</td>\n",
              "    </tr>\n",
              "    <tr>\n",
              "      <th>ignorados</th>\n",
              "      <td>0</td>\n",
              "    </tr>\n",
              "    <tr>\n",
              "      <th>feridos</th>\n",
              "      <td>0</td>\n",
              "    </tr>\n",
              "    <tr>\n",
              "      <th>veiculos</th>\n",
              "      <td>0</td>\n",
              "    </tr>\n",
              "    <tr>\n",
              "      <th>latitude</th>\n",
              "      <td>0</td>\n",
              "    </tr>\n",
              "    <tr>\n",
              "      <th>longitude</th>\n",
              "      <td>0</td>\n",
              "    </tr>\n",
              "    <tr>\n",
              "      <th>regional</th>\n",
              "      <td>17</td>\n",
              "    </tr>\n",
              "    <tr>\n",
              "      <th>delegacia</th>\n",
              "      <td>32</td>\n",
              "    </tr>\n",
              "    <tr>\n",
              "      <th>uop</th>\n",
              "      <td>46</td>\n",
              "    </tr>\n",
              "  </tbody>\n",
              "</table>\n",
              "</div><br><label><b>dtype:</b> int64</label>"
            ]
          },
          "metadata": {},
          "execution_count": 17
        }
      ]
    },
    {
      "cell_type": "markdown",
      "source": [
        "\n",
        "\n",
        "---\n",
        "\n"
      ],
      "metadata": {
        "id": "0eailCvi1rwM"
      }
    },
    {
      "cell_type": "markdown",
      "source": [
        "###**<font color=#4c60d6> 3.2. Distribuição dos atributos**"
      ],
      "metadata": {
        "id": "3WX-6wVr11i2"
      }
    },
    {
      "cell_type": "markdown",
      "source": [
        ">Nessa etapa, iremos verificar a distribuição dos principais atributos. Para ver se existe a necessidade de tomar alguma ação de transformações na etapa de preparação de dados.\n",
        "\n",
        "\n",
        "---"
      ],
      "metadata": {
        "id": "eBLV5FCT12Sf"
      }
    },
    {
      "cell_type": "code",
      "source": [
        "df_acidentes.describe().round(2)"
      ],
      "metadata": {
        "colab": {
          "base_uri": "https://localhost:8080/",
          "height": 320
        },
        "id": "V344i0sT1scW",
        "outputId": "f5017d69-a7bd-4c95-a3e2-951a0de22a9e"
      },
      "execution_count": 18,
      "outputs": [
        {
          "output_type": "execute_result",
          "data": {
            "text/plain": [
              "              id        br   pessoas    mortos  feridos_leves  feridos_graves  \\\n",
              "count   73156.00  73156.00  73156.00  73156.00       73156.00        73156.00   \n",
              "mean   613003.77    209.58      2.60      0.08           0.88            0.28   \n",
              "std     23344.41    128.82      2.23      0.37           1.13            0.64   \n",
              "min    571772.00      0.00      1.00      0.00           0.00            0.00   \n",
              "25%    593042.75    101.00      2.00      0.00           0.00            0.00   \n",
              "50%    613246.50    158.00      2.00      0.00           1.00            0.00   \n",
              "75%    633190.25    324.00      3.00      0.00           1.00            0.00   \n",
              "max    661607.00    495.00     93.00     37.00          83.00           35.00   \n",
              "\n",
              "         ilesos  ignorados   feridos  veiculos  latitude  longitude  \n",
              "count  73156.00   73156.00  73156.00  73156.00  73156.00   73156.00  \n",
              "mean       1.05       0.40      1.16      1.99    -18.81     -46.40  \n",
              "std        1.75       0.82      1.25      1.08      7.72       6.21  \n",
              "min        0.00       0.00      0.00      1.00    -33.68     -72.64  \n",
              "25%        0.00       0.00      1.00      1.00    -25.10     -50.21  \n",
              "50%        1.00       0.00      1.00      2.00    -20.41     -47.01  \n",
              "75%        1.00       1.00      1.00      2.00    -12.59     -42.18  \n",
              "max       78.00      33.00     84.00     26.00      4.45     -32.41  "
            ],
            "text/html": [
              "\n",
              "  <div id=\"df-407b3f7e-914c-4b24-bcf5-286826481ebd\" class=\"colab-df-container\">\n",
              "    <div>\n",
              "<style scoped>\n",
              "    .dataframe tbody tr th:only-of-type {\n",
              "        vertical-align: middle;\n",
              "    }\n",
              "\n",
              "    .dataframe tbody tr th {\n",
              "        vertical-align: top;\n",
              "    }\n",
              "\n",
              "    .dataframe thead th {\n",
              "        text-align: right;\n",
              "    }\n",
              "</style>\n",
              "<table border=\"1\" class=\"dataframe\">\n",
              "  <thead>\n",
              "    <tr style=\"text-align: right;\">\n",
              "      <th></th>\n",
              "      <th>id</th>\n",
              "      <th>br</th>\n",
              "      <th>pessoas</th>\n",
              "      <th>mortos</th>\n",
              "      <th>feridos_leves</th>\n",
              "      <th>feridos_graves</th>\n",
              "      <th>ilesos</th>\n",
              "      <th>ignorados</th>\n",
              "      <th>feridos</th>\n",
              "      <th>veiculos</th>\n",
              "      <th>latitude</th>\n",
              "      <th>longitude</th>\n",
              "    </tr>\n",
              "  </thead>\n",
              "  <tbody>\n",
              "    <tr>\n",
              "      <th>count</th>\n",
              "      <td>73156.00</td>\n",
              "      <td>73156.00</td>\n",
              "      <td>73156.00</td>\n",
              "      <td>73156.00</td>\n",
              "      <td>73156.00</td>\n",
              "      <td>73156.00</td>\n",
              "      <td>73156.00</td>\n",
              "      <td>73156.00</td>\n",
              "      <td>73156.00</td>\n",
              "      <td>73156.00</td>\n",
              "      <td>73156.00</td>\n",
              "      <td>73156.00</td>\n",
              "    </tr>\n",
              "    <tr>\n",
              "      <th>mean</th>\n",
              "      <td>613003.77</td>\n",
              "      <td>209.58</td>\n",
              "      <td>2.60</td>\n",
              "      <td>0.08</td>\n",
              "      <td>0.88</td>\n",
              "      <td>0.28</td>\n",
              "      <td>1.05</td>\n",
              "      <td>0.40</td>\n",
              "      <td>1.16</td>\n",
              "      <td>1.99</td>\n",
              "      <td>-18.81</td>\n",
              "      <td>-46.40</td>\n",
              "    </tr>\n",
              "    <tr>\n",
              "      <th>std</th>\n",
              "      <td>23344.41</td>\n",
              "      <td>128.82</td>\n",
              "      <td>2.23</td>\n",
              "      <td>0.37</td>\n",
              "      <td>1.13</td>\n",
              "      <td>0.64</td>\n",
              "      <td>1.75</td>\n",
              "      <td>0.82</td>\n",
              "      <td>1.25</td>\n",
              "      <td>1.08</td>\n",
              "      <td>7.72</td>\n",
              "      <td>6.21</td>\n",
              "    </tr>\n",
              "    <tr>\n",
              "      <th>min</th>\n",
              "      <td>571772.00</td>\n",
              "      <td>0.00</td>\n",
              "      <td>1.00</td>\n",
              "      <td>0.00</td>\n",
              "      <td>0.00</td>\n",
              "      <td>0.00</td>\n",
              "      <td>0.00</td>\n",
              "      <td>0.00</td>\n",
              "      <td>0.00</td>\n",
              "      <td>1.00</td>\n",
              "      <td>-33.68</td>\n",
              "      <td>-72.64</td>\n",
              "    </tr>\n",
              "    <tr>\n",
              "      <th>25%</th>\n",
              "      <td>593042.75</td>\n",
              "      <td>101.00</td>\n",
              "      <td>2.00</td>\n",
              "      <td>0.00</td>\n",
              "      <td>0.00</td>\n",
              "      <td>0.00</td>\n",
              "      <td>0.00</td>\n",
              "      <td>0.00</td>\n",
              "      <td>1.00</td>\n",
              "      <td>1.00</td>\n",
              "      <td>-25.10</td>\n",
              "      <td>-50.21</td>\n",
              "    </tr>\n",
              "    <tr>\n",
              "      <th>50%</th>\n",
              "      <td>613246.50</td>\n",
              "      <td>158.00</td>\n",
              "      <td>2.00</td>\n",
              "      <td>0.00</td>\n",
              "      <td>1.00</td>\n",
              "      <td>0.00</td>\n",
              "      <td>1.00</td>\n",
              "      <td>0.00</td>\n",
              "      <td>1.00</td>\n",
              "      <td>2.00</td>\n",
              "      <td>-20.41</td>\n",
              "      <td>-47.01</td>\n",
              "    </tr>\n",
              "    <tr>\n",
              "      <th>75%</th>\n",
              "      <td>633190.25</td>\n",
              "      <td>324.00</td>\n",
              "      <td>3.00</td>\n",
              "      <td>0.00</td>\n",
              "      <td>1.00</td>\n",
              "      <td>0.00</td>\n",
              "      <td>1.00</td>\n",
              "      <td>1.00</td>\n",
              "      <td>1.00</td>\n",
              "      <td>2.00</td>\n",
              "      <td>-12.59</td>\n",
              "      <td>-42.18</td>\n",
              "    </tr>\n",
              "    <tr>\n",
              "      <th>max</th>\n",
              "      <td>661607.00</td>\n",
              "      <td>495.00</td>\n",
              "      <td>93.00</td>\n",
              "      <td>37.00</td>\n",
              "      <td>83.00</td>\n",
              "      <td>35.00</td>\n",
              "      <td>78.00</td>\n",
              "      <td>33.00</td>\n",
              "      <td>84.00</td>\n",
              "      <td>26.00</td>\n",
              "      <td>4.45</td>\n",
              "      <td>-32.41</td>\n",
              "    </tr>\n",
              "  </tbody>\n",
              "</table>\n",
              "</div>\n",
              "    <div class=\"colab-df-buttons\">\n",
              "\n",
              "  <div class=\"colab-df-container\">\n",
              "    <button class=\"colab-df-convert\" onclick=\"convertToInteractive('df-407b3f7e-914c-4b24-bcf5-286826481ebd')\"\n",
              "            title=\"Convert this dataframe to an interactive table.\"\n",
              "            style=\"display:none;\">\n",
              "\n",
              "  <svg xmlns=\"http://www.w3.org/2000/svg\" height=\"24px\" viewBox=\"0 -960 960 960\">\n",
              "    <path d=\"M120-120v-720h720v720H120Zm60-500h600v-160H180v160Zm220 220h160v-160H400v160Zm0 220h160v-160H400v160ZM180-400h160v-160H180v160Zm440 0h160v-160H620v160ZM180-180h160v-160H180v160Zm440 0h160v-160H620v160Z\"/>\n",
              "  </svg>\n",
              "    </button>\n",
              "\n",
              "  <style>\n",
              "    .colab-df-container {\n",
              "      display:flex;\n",
              "      gap: 12px;\n",
              "    }\n",
              "\n",
              "    .colab-df-convert {\n",
              "      background-color: #E8F0FE;\n",
              "      border: none;\n",
              "      border-radius: 50%;\n",
              "      cursor: pointer;\n",
              "      display: none;\n",
              "      fill: #1967D2;\n",
              "      height: 32px;\n",
              "      padding: 0 0 0 0;\n",
              "      width: 32px;\n",
              "    }\n",
              "\n",
              "    .colab-df-convert:hover {\n",
              "      background-color: #E2EBFA;\n",
              "      box-shadow: 0px 1px 2px rgba(60, 64, 67, 0.3), 0px 1px 3px 1px rgba(60, 64, 67, 0.15);\n",
              "      fill: #174EA6;\n",
              "    }\n",
              "\n",
              "    .colab-df-buttons div {\n",
              "      margin-bottom: 4px;\n",
              "    }\n",
              "\n",
              "    [theme=dark] .colab-df-convert {\n",
              "      background-color: #3B4455;\n",
              "      fill: #D2E3FC;\n",
              "    }\n",
              "\n",
              "    [theme=dark] .colab-df-convert:hover {\n",
              "      background-color: #434B5C;\n",
              "      box-shadow: 0px 1px 3px 1px rgba(0, 0, 0, 0.15);\n",
              "      filter: drop-shadow(0px 1px 2px rgba(0, 0, 0, 0.3));\n",
              "      fill: #FFFFFF;\n",
              "    }\n",
              "  </style>\n",
              "\n",
              "    <script>\n",
              "      const buttonEl =\n",
              "        document.querySelector('#df-407b3f7e-914c-4b24-bcf5-286826481ebd button.colab-df-convert');\n",
              "      buttonEl.style.display =\n",
              "        google.colab.kernel.accessAllowed ? 'block' : 'none';\n",
              "\n",
              "      async function convertToInteractive(key) {\n",
              "        const element = document.querySelector('#df-407b3f7e-914c-4b24-bcf5-286826481ebd');\n",
              "        const dataTable =\n",
              "          await google.colab.kernel.invokeFunction('convertToInteractive',\n",
              "                                                    [key], {});\n",
              "        if (!dataTable) return;\n",
              "\n",
              "        const docLinkHtml = 'Like what you see? Visit the ' +\n",
              "          '<a target=\"_blank\" href=https://colab.research.google.com/notebooks/data_table.ipynb>data table notebook</a>'\n",
              "          + ' to learn more about interactive tables.';\n",
              "        element.innerHTML = '';\n",
              "        dataTable['output_type'] = 'display_data';\n",
              "        await google.colab.output.renderOutput(dataTable, element);\n",
              "        const docLink = document.createElement('div');\n",
              "        docLink.innerHTML = docLinkHtml;\n",
              "        element.appendChild(docLink);\n",
              "      }\n",
              "    </script>\n",
              "  </div>\n",
              "\n",
              "\n",
              "<div id=\"df-b5c52989-7486-4217-a089-cd32057b6153\">\n",
              "  <button class=\"colab-df-quickchart\" onclick=\"quickchart('df-b5c52989-7486-4217-a089-cd32057b6153')\"\n",
              "            title=\"Suggest charts\"\n",
              "            style=\"display:none;\">\n",
              "\n",
              "<svg xmlns=\"http://www.w3.org/2000/svg\" height=\"24px\"viewBox=\"0 0 24 24\"\n",
              "     width=\"24px\">\n",
              "    <g>\n",
              "        <path d=\"M19 3H5c-1.1 0-2 .9-2 2v14c0 1.1.9 2 2 2h14c1.1 0 2-.9 2-2V5c0-1.1-.9-2-2-2zM9 17H7v-7h2v7zm4 0h-2V7h2v10zm4 0h-2v-4h2v4z\"/>\n",
              "    </g>\n",
              "</svg>\n",
              "  </button>\n",
              "\n",
              "<style>\n",
              "  .colab-df-quickchart {\n",
              "      --bg-color: #E8F0FE;\n",
              "      --fill-color: #1967D2;\n",
              "      --hover-bg-color: #E2EBFA;\n",
              "      --hover-fill-color: #174EA6;\n",
              "      --disabled-fill-color: #AAA;\n",
              "      --disabled-bg-color: #DDD;\n",
              "  }\n",
              "\n",
              "  [theme=dark] .colab-df-quickchart {\n",
              "      --bg-color: #3B4455;\n",
              "      --fill-color: #D2E3FC;\n",
              "      --hover-bg-color: #434B5C;\n",
              "      --hover-fill-color: #FFFFFF;\n",
              "      --disabled-bg-color: #3B4455;\n",
              "      --disabled-fill-color: #666;\n",
              "  }\n",
              "\n",
              "  .colab-df-quickchart {\n",
              "    background-color: var(--bg-color);\n",
              "    border: none;\n",
              "    border-radius: 50%;\n",
              "    cursor: pointer;\n",
              "    display: none;\n",
              "    fill: var(--fill-color);\n",
              "    height: 32px;\n",
              "    padding: 0;\n",
              "    width: 32px;\n",
              "  }\n",
              "\n",
              "  .colab-df-quickchart:hover {\n",
              "    background-color: var(--hover-bg-color);\n",
              "    box-shadow: 0 1px 2px rgba(60, 64, 67, 0.3), 0 1px 3px 1px rgba(60, 64, 67, 0.15);\n",
              "    fill: var(--button-hover-fill-color);\n",
              "  }\n",
              "\n",
              "  .colab-df-quickchart-complete:disabled,\n",
              "  .colab-df-quickchart-complete:disabled:hover {\n",
              "    background-color: var(--disabled-bg-color);\n",
              "    fill: var(--disabled-fill-color);\n",
              "    box-shadow: none;\n",
              "  }\n",
              "\n",
              "  .colab-df-spinner {\n",
              "    border: 2px solid var(--fill-color);\n",
              "    border-color: transparent;\n",
              "    border-bottom-color: var(--fill-color);\n",
              "    animation:\n",
              "      spin 1s steps(1) infinite;\n",
              "  }\n",
              "\n",
              "  @keyframes spin {\n",
              "    0% {\n",
              "      border-color: transparent;\n",
              "      border-bottom-color: var(--fill-color);\n",
              "      border-left-color: var(--fill-color);\n",
              "    }\n",
              "    20% {\n",
              "      border-color: transparent;\n",
              "      border-left-color: var(--fill-color);\n",
              "      border-top-color: var(--fill-color);\n",
              "    }\n",
              "    30% {\n",
              "      border-color: transparent;\n",
              "      border-left-color: var(--fill-color);\n",
              "      border-top-color: var(--fill-color);\n",
              "      border-right-color: var(--fill-color);\n",
              "    }\n",
              "    40% {\n",
              "      border-color: transparent;\n",
              "      border-right-color: var(--fill-color);\n",
              "      border-top-color: var(--fill-color);\n",
              "    }\n",
              "    60% {\n",
              "      border-color: transparent;\n",
              "      border-right-color: var(--fill-color);\n",
              "    }\n",
              "    80% {\n",
              "      border-color: transparent;\n",
              "      border-right-color: var(--fill-color);\n",
              "      border-bottom-color: var(--fill-color);\n",
              "    }\n",
              "    90% {\n",
              "      border-color: transparent;\n",
              "      border-bottom-color: var(--fill-color);\n",
              "    }\n",
              "  }\n",
              "</style>\n",
              "\n",
              "  <script>\n",
              "    async function quickchart(key) {\n",
              "      const quickchartButtonEl =\n",
              "        document.querySelector('#' + key + ' button');\n",
              "      quickchartButtonEl.disabled = true;  // To prevent multiple clicks.\n",
              "      quickchartButtonEl.classList.add('colab-df-spinner');\n",
              "      try {\n",
              "        const charts = await google.colab.kernel.invokeFunction(\n",
              "            'suggestCharts', [key], {});\n",
              "      } catch (error) {\n",
              "        console.error('Error during call to suggestCharts:', error);\n",
              "      }\n",
              "      quickchartButtonEl.classList.remove('colab-df-spinner');\n",
              "      quickchartButtonEl.classList.add('colab-df-quickchart-complete');\n",
              "    }\n",
              "    (() => {\n",
              "      let quickchartButtonEl =\n",
              "        document.querySelector('#df-b5c52989-7486-4217-a089-cd32057b6153 button');\n",
              "      quickchartButtonEl.style.display =\n",
              "        google.colab.kernel.accessAllowed ? 'block' : 'none';\n",
              "    })();\n",
              "  </script>\n",
              "</div>\n",
              "\n",
              "    </div>\n",
              "  </div>\n"
            ],
            "application/vnd.google.colaboratory.intrinsic+json": {
              "type": "dataframe",
              "summary": "{\n  \"name\": \"df_acidentes\",\n  \"rows\": 8,\n  \"fields\": [\n    {\n      \"column\": \"id\",\n      \"properties\": {\n        \"dtype\": \"number\",\n        \"std\": 263692.1532188186,\n        \"min\": 23344.41,\n        \"max\": 661607.0,\n        \"num_unique_values\": 8,\n        \"samples\": [\n          613003.77,\n          613246.5,\n          73156.0\n        ],\n        \"semantic_type\": \"\",\n        \"description\": \"\"\n      }\n    },\n    {\n      \"column\": \"br\",\n      \"properties\": {\n        \"dtype\": \"number\",\n        \"std\": 25793.4533918667,\n        \"min\": 0.0,\n        \"max\": 73156.0,\n        \"num_unique_values\": 8,\n        \"samples\": [\n          209.58,\n          158.0,\n          73156.0\n        ],\n        \"semantic_type\": \"\",\n        \"description\": \"\"\n      }\n    },\n    {\n      \"column\": \"pessoas\",\n      \"properties\": {\n        \"dtype\": \"number\",\n        \"std\": 25859.2261729992,\n        \"min\": 1.0,\n        \"max\": 73156.0,\n        \"num_unique_values\": 7,\n        \"samples\": [\n          73156.0,\n          2.6,\n          3.0\n        ],\n        \"semantic_type\": \"\",\n        \"description\": \"\"\n      }\n    },\n    {\n      \"column\": \"mortos\",\n      \"properties\": {\n        \"dtype\": \"number\",\n        \"std\": 25862.66355960292,\n        \"min\": 0.0,\n        \"max\": 73156.0,\n        \"num_unique_values\": 5,\n        \"samples\": [\n          0.08,\n          37.0,\n          0.37\n        ],\n        \"semantic_type\": \"\",\n        \"description\": \"\"\n      }\n    },\n    {\n      \"column\": \"feridos_leves\",\n      \"properties\": {\n        \"dtype\": \"number\",\n        \"std\": 25860.17322563456,\n        \"min\": 0.0,\n        \"max\": 73156.0,\n        \"num_unique_values\": 6,\n        \"samples\": [\n          73156.0,\n          0.88,\n          83.0\n        ],\n        \"semantic_type\": \"\",\n        \"description\": \"\"\n      }\n    },\n    {\n      \"column\": \"feridos_graves\",\n      \"properties\": {\n        \"dtype\": \"number\",\n        \"std\": 25862.740483801346,\n        \"min\": 0.0,\n        \"max\": 73156.0,\n        \"num_unique_values\": 5,\n        \"samples\": [\n          0.28,\n          35.0,\n          0.64\n        ],\n        \"semantic_type\": \"\",\n        \"description\": \"\"\n      }\n    },\n    {\n      \"column\": \"ilesos\",\n      \"properties\": {\n        \"dtype\": \"number\",\n        \"std\": 25860.383927061102,\n        \"min\": 0.0,\n        \"max\": 73156.0,\n        \"num_unique_values\": 6,\n        \"samples\": [\n          73156.0,\n          1.05,\n          78.0\n        ],\n        \"semantic_type\": \"\",\n        \"description\": \"\"\n      }\n    },\n    {\n      \"column\": \"ignorados\",\n      \"properties\": {\n        \"dtype\": \"number\",\n        \"std\": 25862.77548688835,\n        \"min\": 0.0,\n        \"max\": 73156.0,\n        \"num_unique_values\": 6,\n        \"samples\": [\n          73156.0,\n          0.4,\n          33.0\n        ],\n        \"semantic_type\": \"\",\n        \"description\": \"\"\n      }\n    },\n    {\n      \"column\": \"feridos\",\n      \"properties\": {\n        \"dtype\": \"number\",\n        \"std\": 25860.052306735266,\n        \"min\": 0.0,\n        \"max\": 73156.0,\n        \"num_unique_values\": 6,\n        \"samples\": [\n          73156.0,\n          1.16,\n          84.0\n        ],\n        \"semantic_type\": \"\",\n        \"description\": \"\"\n      }\n    },\n    {\n      \"column\": \"veiculos\",\n      \"properties\": {\n        \"dtype\": \"number\",\n        \"std\": 25862.781963272424,\n        \"min\": 1.0,\n        \"max\": 73156.0,\n        \"num_unique_values\": 6,\n        \"samples\": [\n          73156.0,\n          1.99,\n          26.0\n        ],\n        \"semantic_type\": \"\",\n        \"description\": \"\"\n      }\n    },\n    {\n      \"column\": \"latitude\",\n      \"properties\": {\n        \"dtype\": \"number\",\n        \"std\": 25869.526637707902,\n        \"min\": -33.68,\n        \"max\": 73156.0,\n        \"num_unique_values\": 8,\n        \"samples\": [\n          -18.81,\n          -20.41,\n          73156.0\n        ],\n        \"semantic_type\": \"\",\n        \"description\": \"\"\n      }\n    },\n    {\n      \"column\": \"longitude\",\n      \"properties\": {\n        \"dtype\": \"number\",\n        \"std\": 25878.93786765932,\n        \"min\": -72.64,\n        \"max\": 73156.0,\n        \"num_unique_values\": 8,\n        \"samples\": [\n          -46.4,\n          -47.01,\n          73156.0\n        ],\n        \"semantic_type\": \"\",\n        \"description\": \"\"\n      }\n    }\n  ]\n}"
            }
          },
          "metadata": {},
          "execution_count": 18
        }
      ]
    },
    {
      "cell_type": "code",
      "source": [
        "df_acidentes.dia_semana.value_counts() #quantidade"
      ],
      "metadata": {
        "colab": {
          "base_uri": "https://localhost:8080/",
          "height": 335
        },
        "id": "baofCBIb2OHu",
        "outputId": "d3526ae8-3e2e-4e3e-be4c-8c56bbf81de9"
      },
      "execution_count": 19,
      "outputs": [
        {
          "output_type": "execute_result",
          "data": {
            "text/plain": [
              "dia_semana\n",
              "domingo          11741\n",
              "sábado           11641\n",
              "sexta-feira      11300\n",
              "segunda-feira    10208\n",
              "quinta-feira      9570\n",
              "quarta-feira      9384\n",
              "terça-feira       9312\n",
              "Name: count, dtype: int64"
            ],
            "text/html": [
              "<div>\n",
              "<style scoped>\n",
              "    .dataframe tbody tr th:only-of-type {\n",
              "        vertical-align: middle;\n",
              "    }\n",
              "\n",
              "    .dataframe tbody tr th {\n",
              "        vertical-align: top;\n",
              "    }\n",
              "\n",
              "    .dataframe thead th {\n",
              "        text-align: right;\n",
              "    }\n",
              "</style>\n",
              "<table border=\"1\" class=\"dataframe\">\n",
              "  <thead>\n",
              "    <tr style=\"text-align: right;\">\n",
              "      <th></th>\n",
              "      <th>count</th>\n",
              "    </tr>\n",
              "    <tr>\n",
              "      <th>dia_semana</th>\n",
              "      <th></th>\n",
              "    </tr>\n",
              "  </thead>\n",
              "  <tbody>\n",
              "    <tr>\n",
              "      <th>domingo</th>\n",
              "      <td>11741</td>\n",
              "    </tr>\n",
              "    <tr>\n",
              "      <th>sábado</th>\n",
              "      <td>11641</td>\n",
              "    </tr>\n",
              "    <tr>\n",
              "      <th>sexta-feira</th>\n",
              "      <td>11300</td>\n",
              "    </tr>\n",
              "    <tr>\n",
              "      <th>segunda-feira</th>\n",
              "      <td>10208</td>\n",
              "    </tr>\n",
              "    <tr>\n",
              "      <th>quinta-feira</th>\n",
              "      <td>9570</td>\n",
              "    </tr>\n",
              "    <tr>\n",
              "      <th>quarta-feira</th>\n",
              "      <td>9384</td>\n",
              "    </tr>\n",
              "    <tr>\n",
              "      <th>terça-feira</th>\n",
              "      <td>9312</td>\n",
              "    </tr>\n",
              "  </tbody>\n",
              "</table>\n",
              "</div><br><label><b>dtype:</b> int64</label>"
            ]
          },
          "metadata": {},
          "execution_count": 19
        }
      ]
    },
    {
      "cell_type": "code",
      "source": [
        "df_acidentes.causa_acidente.value_counts() #quantidade"
      ],
      "metadata": {
        "colab": {
          "base_uri": "https://localhost:8080/",
          "height": 490
        },
        "id": "g3eYU8Ck2WtC",
        "outputId": "546e04ea-06f2-4967-d488-86c65735ce06"
      },
      "execution_count": 20,
      "outputs": [
        {
          "output_type": "execute_result",
          "data": {
            "text/plain": [
              "causa_acidente\n",
              "Reação tardia ou ineficiente do condutor                     10920\n",
              "Ausência de reação do condutor                               10664\n",
              "Acessar a via sem observar a presença dos outros veículos     6958\n",
              "Condutor deixou de manter distância do veículo da frente      4460\n",
              "Velocidade Incompatível                                       4347\n",
              "                                                             ...  \n",
              "Restrição de visibilidade em curvas verticais                    7\n",
              "Faróis desregulados                                              5\n",
              "Sistema de drenagem ineficiente                                  4\n",
              "Sinalização encoberta                                            3\n",
              "Redutor de velocidade em desacordo                               3\n",
              "Name: count, Length: 69, dtype: int64"
            ],
            "text/html": [
              "<div>\n",
              "<style scoped>\n",
              "    .dataframe tbody tr th:only-of-type {\n",
              "        vertical-align: middle;\n",
              "    }\n",
              "\n",
              "    .dataframe tbody tr th {\n",
              "        vertical-align: top;\n",
              "    }\n",
              "\n",
              "    .dataframe thead th {\n",
              "        text-align: right;\n",
              "    }\n",
              "</style>\n",
              "<table border=\"1\" class=\"dataframe\">\n",
              "  <thead>\n",
              "    <tr style=\"text-align: right;\">\n",
              "      <th></th>\n",
              "      <th>count</th>\n",
              "    </tr>\n",
              "    <tr>\n",
              "      <th>causa_acidente</th>\n",
              "      <th></th>\n",
              "    </tr>\n",
              "  </thead>\n",
              "  <tbody>\n",
              "    <tr>\n",
              "      <th>Reação tardia ou ineficiente do condutor</th>\n",
              "      <td>10920</td>\n",
              "    </tr>\n",
              "    <tr>\n",
              "      <th>Ausência de reação do condutor</th>\n",
              "      <td>10664</td>\n",
              "    </tr>\n",
              "    <tr>\n",
              "      <th>Acessar a via sem observar a presença dos outros veículos</th>\n",
              "      <td>6958</td>\n",
              "    </tr>\n",
              "    <tr>\n",
              "      <th>Condutor deixou de manter distância do veículo da frente</th>\n",
              "      <td>4460</td>\n",
              "    </tr>\n",
              "    <tr>\n",
              "      <th>Velocidade Incompatível</th>\n",
              "      <td>4347</td>\n",
              "    </tr>\n",
              "    <tr>\n",
              "      <th>...</th>\n",
              "      <td>...</td>\n",
              "    </tr>\n",
              "    <tr>\n",
              "      <th>Restrição de visibilidade em curvas verticais</th>\n",
              "      <td>7</td>\n",
              "    </tr>\n",
              "    <tr>\n",
              "      <th>Faróis desregulados</th>\n",
              "      <td>5</td>\n",
              "    </tr>\n",
              "    <tr>\n",
              "      <th>Sistema de drenagem ineficiente</th>\n",
              "      <td>4</td>\n",
              "    </tr>\n",
              "    <tr>\n",
              "      <th>Sinalização encoberta</th>\n",
              "      <td>3</td>\n",
              "    </tr>\n",
              "    <tr>\n",
              "      <th>Redutor de velocidade em desacordo</th>\n",
              "      <td>3</td>\n",
              "    </tr>\n",
              "  </tbody>\n",
              "</table>\n",
              "<p>69 rows × 1 columns</p>\n",
              "</div><br><label><b>dtype:</b> int64</label>"
            ]
          },
          "metadata": {},
          "execution_count": 20
        }
      ]
    },
    {
      "cell_type": "code",
      "source": [
        "df_acidentes.tipo_acidente.value_counts() #quantidade"
      ],
      "metadata": {
        "colab": {
          "base_uri": "https://localhost:8080/",
          "height": 649
        },
        "id": "IB8yyNkQ2apt",
        "outputId": "6c063855-9a78-4651-ea3c-0f1f55ab10a4"
      },
      "execution_count": 21,
      "outputs": [
        {
          "output_type": "execute_result",
          "data": {
            "text/plain": [
              "tipo_acidente\n",
              "Colisão traseira                  13960\n",
              "Saída de leito carroçável         10827\n",
              "Colisão transversal                9385\n",
              "Colisão lateral mesmo sentido      7902\n",
              "Tombamento                         6442\n",
              "Colisão com objeto                 5118\n",
              "Colisão frontal                    4862\n",
              "Queda de ocupante de veículo       3349\n",
              "Atropelamento de Pedestre          3167\n",
              "Colisão lateral sentido oposto     2028\n",
              "Incêndio                           1717\n",
              "Capotamento                        1469\n",
              "Atropelamento de Animal            1285\n",
              "Engavetamento                      1224\n",
              "Eventos atípicos                    299\n",
              "Derramamento de carga               110\n",
              "Sinistro pessoal de trânsito         12\n",
              "Name: count, dtype: int64"
            ],
            "text/html": [
              "<div>\n",
              "<style scoped>\n",
              "    .dataframe tbody tr th:only-of-type {\n",
              "        vertical-align: middle;\n",
              "    }\n",
              "\n",
              "    .dataframe tbody tr th {\n",
              "        vertical-align: top;\n",
              "    }\n",
              "\n",
              "    .dataframe thead th {\n",
              "        text-align: right;\n",
              "    }\n",
              "</style>\n",
              "<table border=\"1\" class=\"dataframe\">\n",
              "  <thead>\n",
              "    <tr style=\"text-align: right;\">\n",
              "      <th></th>\n",
              "      <th>count</th>\n",
              "    </tr>\n",
              "    <tr>\n",
              "      <th>tipo_acidente</th>\n",
              "      <th></th>\n",
              "    </tr>\n",
              "  </thead>\n",
              "  <tbody>\n",
              "    <tr>\n",
              "      <th>Colisão traseira</th>\n",
              "      <td>13960</td>\n",
              "    </tr>\n",
              "    <tr>\n",
              "      <th>Saída de leito carroçável</th>\n",
              "      <td>10827</td>\n",
              "    </tr>\n",
              "    <tr>\n",
              "      <th>Colisão transversal</th>\n",
              "      <td>9385</td>\n",
              "    </tr>\n",
              "    <tr>\n",
              "      <th>Colisão lateral mesmo sentido</th>\n",
              "      <td>7902</td>\n",
              "    </tr>\n",
              "    <tr>\n",
              "      <th>Tombamento</th>\n",
              "      <td>6442</td>\n",
              "    </tr>\n",
              "    <tr>\n",
              "      <th>Colisão com objeto</th>\n",
              "      <td>5118</td>\n",
              "    </tr>\n",
              "    <tr>\n",
              "      <th>Colisão frontal</th>\n",
              "      <td>4862</td>\n",
              "    </tr>\n",
              "    <tr>\n",
              "      <th>Queda de ocupante de veículo</th>\n",
              "      <td>3349</td>\n",
              "    </tr>\n",
              "    <tr>\n",
              "      <th>Atropelamento de Pedestre</th>\n",
              "      <td>3167</td>\n",
              "    </tr>\n",
              "    <tr>\n",
              "      <th>Colisão lateral sentido oposto</th>\n",
              "      <td>2028</td>\n",
              "    </tr>\n",
              "    <tr>\n",
              "      <th>Incêndio</th>\n",
              "      <td>1717</td>\n",
              "    </tr>\n",
              "    <tr>\n",
              "      <th>Capotamento</th>\n",
              "      <td>1469</td>\n",
              "    </tr>\n",
              "    <tr>\n",
              "      <th>Atropelamento de Animal</th>\n",
              "      <td>1285</td>\n",
              "    </tr>\n",
              "    <tr>\n",
              "      <th>Engavetamento</th>\n",
              "      <td>1224</td>\n",
              "    </tr>\n",
              "    <tr>\n",
              "      <th>Eventos atípicos</th>\n",
              "      <td>299</td>\n",
              "    </tr>\n",
              "    <tr>\n",
              "      <th>Derramamento de carga</th>\n",
              "      <td>110</td>\n",
              "    </tr>\n",
              "    <tr>\n",
              "      <th>Sinistro pessoal de trânsito</th>\n",
              "      <td>12</td>\n",
              "    </tr>\n",
              "  </tbody>\n",
              "</table>\n",
              "</div><br><label><b>dtype:</b> int64</label>"
            ]
          },
          "metadata": {},
          "execution_count": 21
        }
      ]
    },
    {
      "cell_type": "code",
      "source": [
        "df_acidentes.classificacao_acidente.value_counts() #quantidade"
      ],
      "metadata": {
        "colab": {
          "base_uri": "https://localhost:8080/",
          "height": 210
        },
        "id": "HAfM0bmX2eux",
        "outputId": "5db1581d-b00c-49be-9ddb-35fc9ec23693"
      },
      "execution_count": 22,
      "outputs": [
        {
          "output_type": "execute_result",
          "data": {
            "text/plain": [
              "classificacao_acidente\n",
              "Com Vítimas Feridas    56154\n",
              "Sem Vítimas            11779\n",
              "Com Vítimas Fatais      5222\n",
              "Name: count, dtype: int64"
            ],
            "text/html": [
              "<div>\n",
              "<style scoped>\n",
              "    .dataframe tbody tr th:only-of-type {\n",
              "        vertical-align: middle;\n",
              "    }\n",
              "\n",
              "    .dataframe tbody tr th {\n",
              "        vertical-align: top;\n",
              "    }\n",
              "\n",
              "    .dataframe thead th {\n",
              "        text-align: right;\n",
              "    }\n",
              "</style>\n",
              "<table border=\"1\" class=\"dataframe\">\n",
              "  <thead>\n",
              "    <tr style=\"text-align: right;\">\n",
              "      <th></th>\n",
              "      <th>count</th>\n",
              "    </tr>\n",
              "    <tr>\n",
              "      <th>classificacao_acidente</th>\n",
              "      <th></th>\n",
              "    </tr>\n",
              "  </thead>\n",
              "  <tbody>\n",
              "    <tr>\n",
              "      <th>Com Vítimas Feridas</th>\n",
              "      <td>56154</td>\n",
              "    </tr>\n",
              "    <tr>\n",
              "      <th>Sem Vítimas</th>\n",
              "      <td>11779</td>\n",
              "    </tr>\n",
              "    <tr>\n",
              "      <th>Com Vítimas Fatais</th>\n",
              "      <td>5222</td>\n",
              "    </tr>\n",
              "  </tbody>\n",
              "</table>\n",
              "</div><br><label><b>dtype:</b> int64</label>"
            ]
          },
          "metadata": {},
          "execution_count": 22
        }
      ]
    },
    {
      "cell_type": "code",
      "source": [
        "df_acidentes.condicao_metereologica.value_counts() #quantidade"
      ],
      "metadata": {
        "colab": {
          "base_uri": "https://localhost:8080/",
          "height": 429
        },
        "id": "5RTzjdiv2spa",
        "outputId": "a039db82-0dce-48e0-bb48-93102f8e72de"
      },
      "execution_count": 23,
      "outputs": [
        {
          "output_type": "execute_result",
          "data": {
            "text/plain": [
              "condicao_metereologica\n",
              "Céu Claro           46271\n",
              "Nublado             11033\n",
              "Chuva                7420\n",
              "Sol                  3959\n",
              "Garoa/Chuvisco       2776\n",
              "Ignorado              918\n",
              "Nevoeiro/Neblina      657\n",
              "Vento                 119\n",
              "Granizo                 2\n",
              "Neve                    1\n",
              "Name: count, dtype: int64"
            ],
            "text/html": [
              "<div>\n",
              "<style scoped>\n",
              "    .dataframe tbody tr th:only-of-type {\n",
              "        vertical-align: middle;\n",
              "    }\n",
              "\n",
              "    .dataframe tbody tr th {\n",
              "        vertical-align: top;\n",
              "    }\n",
              "\n",
              "    .dataframe thead th {\n",
              "        text-align: right;\n",
              "    }\n",
              "</style>\n",
              "<table border=\"1\" class=\"dataframe\">\n",
              "  <thead>\n",
              "    <tr style=\"text-align: right;\">\n",
              "      <th></th>\n",
              "      <th>count</th>\n",
              "    </tr>\n",
              "    <tr>\n",
              "      <th>condicao_metereologica</th>\n",
              "      <th></th>\n",
              "    </tr>\n",
              "  </thead>\n",
              "  <tbody>\n",
              "    <tr>\n",
              "      <th>Céu Claro</th>\n",
              "      <td>46271</td>\n",
              "    </tr>\n",
              "    <tr>\n",
              "      <th>Nublado</th>\n",
              "      <td>11033</td>\n",
              "    </tr>\n",
              "    <tr>\n",
              "      <th>Chuva</th>\n",
              "      <td>7420</td>\n",
              "    </tr>\n",
              "    <tr>\n",
              "      <th>Sol</th>\n",
              "      <td>3959</td>\n",
              "    </tr>\n",
              "    <tr>\n",
              "      <th>Garoa/Chuvisco</th>\n",
              "      <td>2776</td>\n",
              "    </tr>\n",
              "    <tr>\n",
              "      <th>Ignorado</th>\n",
              "      <td>918</td>\n",
              "    </tr>\n",
              "    <tr>\n",
              "      <th>Nevoeiro/Neblina</th>\n",
              "      <td>657</td>\n",
              "    </tr>\n",
              "    <tr>\n",
              "      <th>Vento</th>\n",
              "      <td>119</td>\n",
              "    </tr>\n",
              "    <tr>\n",
              "      <th>Granizo</th>\n",
              "      <td>2</td>\n",
              "    </tr>\n",
              "    <tr>\n",
              "      <th>Neve</th>\n",
              "      <td>1</td>\n",
              "    </tr>\n",
              "  </tbody>\n",
              "</table>\n",
              "</div><br><label><b>dtype:</b> int64</label>"
            ]
          },
          "metadata": {},
          "execution_count": 23
        }
      ]
    },
    {
      "cell_type": "markdown",
      "source": [
        "#**<font color=#4c60d6 size=\"6\"> 4. Pré-Processamento de dados**"
      ],
      "metadata": {
        "id": "54lZgOep3Iu-"
      }
    },
    {
      "cell_type": "markdown",
      "source": [
        "Após coletar e analisar os dados na etapa anterior, agora é o momento\n",
        "de limpar, transformar e apresentar melhor os dados.\n",
        ">\n",
        "Assim poderemos obter, na próxima etapa, os melhores resultados possíveis nos algoritmos de\n",
        "Machine Learning, ou simplesmente apresentar dados mais confiáveis para os clientes em soluções de\n",
        "business intelligence.\n",
        "\n",
        "\n",
        "---"
      ],
      "metadata": {
        "id": "YQWV0-nf3Jkg"
      }
    },
    {
      "cell_type": "markdown",
      "source": [
        "####**<font color=#4c60d6> 4.1 Duplicidade de registros**"
      ],
      "metadata": {
        "id": "Ph4r62p5zEy8"
      }
    },
    {
      "cell_type": "markdown",
      "source": [
        "O arquivo contempla um sinistro por registro, tendo como chave o campo: **id**"
      ],
      "metadata": {
        "id": "Wy57AchhzM2c"
      }
    },
    {
      "cell_type": "code",
      "source": [
        "df_acidentes.duplicated(subset='id', keep='first').sum()"
      ],
      "metadata": {
        "colab": {
          "base_uri": "https://localhost:8080/"
        },
        "id": "cfVSTLlGzhr5",
        "outputId": "d92818af-bb09-4a91-a774-ad8002aaad50"
      },
      "execution_count": 24,
      "outputs": [
        {
          "output_type": "execute_result",
          "data": {
            "text/plain": [
              "0"
            ]
          },
          "metadata": {},
          "execution_count": 24
        }
      ]
    },
    {
      "cell_type": "code",
      "source": [
        "df_acidentes_2023.duplicated(subset='id', keep='first').sum()"
      ],
      "metadata": {
        "colab": {
          "base_uri": "https://localhost:8080/"
        },
        "id": "oHn4sfeUzmUQ",
        "outputId": "73eaafc7-a58b-4a4a-fd6d-98d31a31556e"
      },
      "execution_count": 25,
      "outputs": [
        {
          "output_type": "execute_result",
          "data": {
            "text/plain": [
              "0"
            ]
          },
          "metadata": {},
          "execution_count": 25
        }
      ]
    },
    {
      "cell_type": "markdown",
      "source": [
        "Sem duplicidades"
      ],
      "metadata": {
        "id": "5-JMiBIkzprN"
      }
    },
    {
      "cell_type": "markdown",
      "source": [
        "####**<font color=#4c60d6> 4.2 Redundâncias**"
      ],
      "metadata": {
        "id": "kI0Twq6h3Na-"
      }
    },
    {
      "cell_type": "markdown",
      "source": [
        "Vamos eliminar as colunas que não iremos utilizar em nossas analises.\n",
        ">\n",
        "A ideia é ter um dataframe mais leve, e com pouco espaço em disco."
      ],
      "metadata": {
        "id": "zkKvgFzb3bP1"
      }
    },
    {
      "cell_type": "code",
      "source": [
        "df_acidentes.drop([\n",
        "              'regional','delegacia', 'uop'\n",
        "             ], axis=1, inplace= True)"
      ],
      "metadata": {
        "id": "zmLk_8LN3oWK"
      },
      "execution_count": 26,
      "outputs": []
    },
    {
      "cell_type": "code",
      "source": [
        "df_acidentes_2023.drop([\n",
        "              'regional','delegacia', 'uop'\n",
        "             ], axis=1, inplace= True)"
      ],
      "metadata": {
        "id": "w3ba0V3uuyrl"
      },
      "execution_count": 27,
      "outputs": []
    },
    {
      "cell_type": "markdown",
      "source": [
        "####**<font color=#4c60d6> 4.3 Tratamento de Missings**"
      ],
      "metadata": {
        "id": "MHw9xC4o4BxI"
      }
    },
    {
      "cell_type": "code",
      "source": [
        "ms.bar(df_acidentes, color=\"dodgerblue\",  figsize=(20,15), fontsize=12)"
      ],
      "metadata": {
        "colab": {
          "base_uri": "https://localhost:8080/",
          "height": 791
        },
        "id": "YR3pqCZs4Lvg",
        "outputId": "237d287a-3a6f-4089-8e54-9855c2762f09"
      },
      "execution_count": 48,
      "outputs": [
        {
          "output_type": "execute_result",
          "data": {
            "text/plain": [
              "<Axes: >"
            ]
          },
          "metadata": {},
          "execution_count": 48
        },
        {
          "output_type": "display_data",
          "data": {
            "text/plain": [
              "<Figure size 2000x1500 with 3 Axes>"
            ],
            "image/png": "[encoded data removed]"
          },
          "metadata": {}
        }
      ]
    },
    {
      "cell_type": "code",
      "source": [
        "ms.bar(df_acidentes_2023, color=\"dodgerblue\",  figsize=(20,15), fontsize=12)"
      ],
      "metadata": {
        "colab": {
          "base_uri": "https://localhost:8080/",
          "height": 792
        },
        "id": "AbWLChqsu5jw",
        "outputId": "512ed7cd-1dac-43f7-cc2a-bf82abe85414"
      },
      "execution_count": 45,
      "outputs": [
        {
          "output_type": "execute_result",
          "data": {
            "text/plain": [
              "<Axes: >"
            ]
          },
          "metadata": {},
          "execution_count": 45
        },
        {
          "output_type": "display_data",
          "data": {
            "text/plain": [
              "<Figure size 2000x1500 with 3 Axes>"
            ],
            "image/png": "[encoded data removed]"
          },
          "metadata": {}
        }
      ]
    },
    {
      "cell_type": "markdown",
      "source": [
        "O dataframe com as informações de 2024, não possui registros nulos.\n",
        ">\n",
        "Já o de 2023, possui 1 registro nulo no campo **classificacao_acidente**"
      ],
      "metadata": {
        "id": "ERAA80OU4Twr"
      }
    },
    {
      "cell_type": "code",
      "source": [
        "# excluir registro NULL\n",
        "df_acidentes_2023 = df_acidentes_2023.dropna()"
      ],
      "metadata": {
        "id": "Ace0MvwAvxPz"
      },
      "execution_count": 30,
      "outputs": []
    },
    {
      "cell_type": "code",
      "source": [
        "df_acidentes = df_acidentes.dropna()"
      ],
      "metadata": {
        "id": "3SQN9cMgARRz"
      },
      "execution_count": 47,
      "outputs": []
    },
    {
      "cell_type": "markdown",
      "source": [
        "###**<font color=#4c60d6> 4.4 Criação de recursos**"
      ],
      "metadata": {
        "id": "r03M4ZRD4gUf"
      }
    },
    {
      "cell_type": "markdown",
      "source": [
        "Também conhecida como ***feature engineering***, a criação de recursos consiste em criar, a partir dos atributos originais, um conjunto de atributos que capture informações importantes."
      ],
      "metadata": {
        "id": "TXM8W2mH4jaj"
      }
    },
    {
      "cell_type": "markdown",
      "source": [
        "> <font color=#4c60d6>**Concatenar informações**"
      ],
      "metadata": {
        "id": "kc50Sb0yxDG0"
      }
    },
    {
      "cell_type": "code",
      "source": [
        "df_acidentes = pd.concat([df_acidentes, df_acidentes_2023],sort=False, ignore_index=True)"
      ],
      "metadata": {
        "id": "L8TuVb5NxAP1"
      },
      "execution_count": 31,
      "outputs": []
    },
    {
      "cell_type": "markdown",
      "source": [
        "> <font color=#4c60d6>**Campo data e hora**"
      ],
      "metadata": {
        "id": "v_8O4qN14u9a"
      }
    },
    {
      "cell_type": "code",
      "source": [
        "# Dados 2024 e 2023\n",
        "df_acidentes['data_hora'] = df_acidentes['data_inversa'].map(str) + ' ' + df_acidentes['horario']\n",
        "df_acidentes['data_hora'] = pd.to_datetime(df_acidentes['data_hora'])\n",
        "df_acidentes['ano'] = df_acidentes['data_hora'].dt.year\n",
        "df_acidentes['mes'] = df_acidentes['data_hora'].dt.month\n",
        "df_acidentes['hora'] = df_acidentes['data_hora'].dt.hour\n",
        "df_acidentes['ano_mes'] = df_acidentes['data_hora'].dt.strftime('%Y-%m')\n",
        "df_acidentes['semana'] = df_acidentes['data_hora'].dt.weekday\n",
        "#o método weekday() devolve o dia da semana como um número inteiro onde a segunda-feira é indexada como 0 e o domingo como 6\n"
      ],
      "metadata": {
        "id": "Mz85P7zz47KJ"
      },
      "execution_count": 32,
      "outputs": []
    },
    {
      "cell_type": "code",
      "source": [
        "#quantidade de acidentes por ano\n",
        "por_ano = df_acidentes[['ano', 'id']]\n",
        "plt_por_ano = por_ano.groupby([\"ano\"]).count().reset_index()\n",
        "plt_por_ano"
      ],
      "metadata": {
        "colab": {
          "base_uri": "https://localhost:8080/",
          "height": 125
        },
        "id": "4mSFsr4TwUiu",
        "outputId": "458e83a5-6f83-4469-e1e2-5e6ece527fcc"
      },
      "execution_count": 33,
      "outputs": [
        {
          "output_type": "execute_result",
          "data": {
            "text/plain": [
              "    ano     id\n",
              "0  2023  67765\n",
              "1  2024  73156"
            ],
            "text/html": [
              "\n",
              "  <div id=\"df-197cdb5a-8b02-47fa-86b0-411a45044d60\" class=\"colab-df-container\">\n",
              "    <div>\n",
              "<style scoped>\n",
              "    .dataframe tbody tr th:only-of-type {\n",
              "        vertical-align: middle;\n",
              "    }\n",
              "\n",
              "    .dataframe tbody tr th {\n",
              "        vertical-align: top;\n",
              "    }\n",
              "\n",
              "    .dataframe thead th {\n",
              "        text-align: right;\n",
              "    }\n",
              "</style>\n",
              "<table border=\"1\" class=\"dataframe\">\n",
              "  <thead>\n",
              "    <tr style=\"text-align: right;\">\n",
              "      <th></th>\n",
              "      <th>ano</th>\n",
              "      <th>id</th>\n",
              "    </tr>\n",
              "  </thead>\n",
              "  <tbody>\n",
              "    <tr>\n",
              "      <th>0</th>\n",
              "      <td>2023</td>\n",
              "      <td>67765</td>\n",
              "    </tr>\n",
              "    <tr>\n",
              "      <th>1</th>\n",
              "      <td>2024</td>\n",
              "      <td>73156</td>\n",
              "    </tr>\n",
              "  </tbody>\n",
              "</table>\n",
              "</div>\n",
              "    <div class=\"colab-df-buttons\">\n",
              "\n",
              "  <div class=\"colab-df-container\">\n",
              "    <button class=\"colab-df-convert\" onclick=\"convertToInteractive('df-197cdb5a-8b02-47fa-86b0-411a45044d60')\"\n",
              "            title=\"Convert this dataframe to an interactive table.\"\n",
              "            style=\"display:none;\">\n",
              "\n",
              "  <svg xmlns=\"http://www.w3.org/2000/svg\" height=\"24px\" viewBox=\"0 -960 960 960\">\n",
              "    <path d=\"M120-120v-720h720v720H120Zm60-500h600v-160H180v160Zm220 220h160v-160H400v160Zm0 220h160v-160H400v160ZM180-400h160v-160H180v160Zm440 0h160v-160H620v160ZM180-180h160v-160H180v160Zm440 0h160v-160H620v160Z\"/>\n",
              "  </svg>\n",
              "    </button>\n",
              "\n",
              "  <style>\n",
              "    .colab-df-container {\n",
              "      display:flex;\n",
              "      gap: 12px;\n",
              "    }\n",
              "\n",
              "    .colab-df-convert {\n",
              "      background-color: #E8F0FE;\n",
              "      border: none;\n",
              "      border-radius: 50%;\n",
              "      cursor: pointer;\n",
              "      display: none;\n",
              "      fill: #1967D2;\n",
              "      height: 32px;\n",
              "      padding: 0 0 0 0;\n",
              "      width: 32px;\n",
              "    }\n",
              "\n",
              "    .colab-df-convert:hover {\n",
              "      background-color: #E2EBFA;\n",
              "      box-shadow: 0px 1px 2px rgba(60, 64, 67, 0.3), 0px 1px 3px 1px rgba(60, 64, 67, 0.15);\n",
              "      fill: #174EA6;\n",
              "    }\n",
              "\n",
              "    .colab-df-buttons div {\n",
              "      margin-bottom: 4px;\n",
              "    }\n",
              "\n",
              "    [theme=dark] .colab-df-convert {\n",
              "      background-color: #3B4455;\n",
              "      fill: #D2E3FC;\n",
              "    }\n",
              "\n",
              "    [theme=dark] .colab-df-convert:hover {\n",
              "      background-color: #434B5C;\n",
              "      box-shadow: 0px 1px 3px 1px rgba(0, 0, 0, 0.15);\n",
              "      filter: drop-shadow(0px 1px 2px rgba(0, 0, 0, 0.3));\n",
              "      fill: #FFFFFF;\n",
              "    }\n",
              "  </style>\n",
              "\n",
              "    <script>\n",
              "      const buttonEl =\n",
              "        document.querySelector('#df-197cdb5a-8b02-47fa-86b0-411a45044d60 button.colab-df-convert');\n",
              "      buttonEl.style.display =\n",
              "        google.colab.kernel.accessAllowed ? 'block' : 'none';\n",
              "\n",
              "      async function convertToInteractive(key) {\n",
              "        const element = document.querySelector('#df-197cdb5a-8b02-47fa-86b0-411a45044d60');\n",
              "        const dataTable =\n",
              "          await google.colab.kernel.invokeFunction('convertToInteractive',\n",
              "                                                    [key], {});\n",
              "        if (!dataTable) return;\n",
              "\n",
              "        const docLinkHtml = 'Like what you see? Visit the ' +\n",
              "          '<a target=\"_blank\" href=https://colab.research.google.com/notebooks/data_table.ipynb>data table notebook</a>'\n",
              "          + ' to learn more about interactive tables.';\n",
              "        element.innerHTML = '';\n",
              "        dataTable['output_type'] = 'display_data';\n",
              "        await google.colab.output.renderOutput(dataTable, element);\n",
              "        const docLink = document.createElement('div');\n",
              "        docLink.innerHTML = docLinkHtml;\n",
              "        element.appendChild(docLink);\n",
              "      }\n",
              "    </script>\n",
              "  </div>\n",
              "\n",
              "\n",
              "<div id=\"df-bf683fa9-226a-4a6e-bfd6-23a444390469\">\n",
              "  <button class=\"colab-df-quickchart\" onclick=\"quickchart('df-bf683fa9-226a-4a6e-bfd6-23a444390469')\"\n",
              "            title=\"Suggest charts\"\n",
              "            style=\"display:none;\">\n",
              "\n",
              "<svg xmlns=\"http://www.w3.org/2000/svg\" height=\"24px\"viewBox=\"0 0 24 24\"\n",
              "     width=\"24px\">\n",
              "    <g>\n",
              "        <path d=\"M19 3H5c-1.1 0-2 .9-2 2v14c0 1.1.9 2 2 2h14c1.1 0 2-.9 2-2V5c0-1.1-.9-2-2-2zM9 17H7v-7h2v7zm4 0h-2V7h2v10zm4 0h-2v-4h2v4z\"/>\n",
              "    </g>\n",
              "</svg>\n",
              "  </button>\n",
              "\n",
              "<style>\n",
              "  .colab-df-quickchart {\n",
              "      --bg-color: #E8F0FE;\n",
              "      --fill-color: #1967D2;\n",
              "      --hover-bg-color: #E2EBFA;\n",
              "      --hover-fill-color: #174EA6;\n",
              "      --disabled-fill-color: #AAA;\n",
              "      --disabled-bg-color: #DDD;\n",
              "  }\n",
              "\n",
              "  [theme=dark] .colab-df-quickchart {\n",
              "      --bg-color: #3B4455;\n",
              "      --fill-color: #D2E3FC;\n",
              "      --hover-bg-color: #434B5C;\n",
              "      --hover-fill-color: #FFFFFF;\n",
              "      --disabled-bg-color: #3B4455;\n",
              "      --disabled-fill-color: #666;\n",
              "  }\n",
              "\n",
              "  .colab-df-quickchart {\n",
              "    background-color: var(--bg-color);\n",
              "    border: none;\n",
              "    border-radius: 50%;\n",
              "    cursor: pointer;\n",
              "    display: none;\n",
              "    fill: var(--fill-color);\n",
              "    height: 32px;\n",
              "    padding: 0;\n",
              "    width: 32px;\n",
              "  }\n",
              "\n",
              "  .colab-df-quickchart:hover {\n",
              "    background-color: var(--hover-bg-color);\n",
              "    box-shadow: 0 1px 2px rgba(60, 64, 67, 0.3), 0 1px 3px 1px rgba(60, 64, 67, 0.15);\n",
              "    fill: var(--button-hover-fill-color);\n",
              "  }\n",
              "\n",
              "  .colab-df-quickchart-complete:disabled,\n",
              "  .colab-df-quickchart-complete:disabled:hover {\n",
              "    background-color: var(--disabled-bg-color);\n",
              "    fill: var(--disabled-fill-color);\n",
              "    box-shadow: none;\n",
              "  }\n",
              "\n",
              "  .colab-df-spinner {\n",
              "    border: 2px solid var(--fill-color);\n",
              "    border-color: transparent;\n",
              "    border-bottom-color: var(--fill-color);\n",
              "    animation:\n",
              "      spin 1s steps(1) infinite;\n",
              "  }\n",
              "\n",
              "  @keyframes spin {\n",
              "    0% {\n",
              "      border-color: transparent;\n",
              "      border-bottom-color: var(--fill-color);\n",
              "      border-left-color: var(--fill-color);\n",
              "    }\n",
              "    20% {\n",
              "      border-color: transparent;\n",
              "      border-left-color: var(--fill-color);\n",
              "      border-top-color: var(--fill-color);\n",
              "    }\n",
              "    30% {\n",
              "      border-color: transparent;\n",
              "      border-left-color: var(--fill-color);\n",
              "      border-top-color: var(--fill-color);\n",
              "      border-right-color: var(--fill-color);\n",
              "    }\n",
              "    40% {\n",
              "      border-color: transparent;\n",
              "      border-right-color: var(--fill-color);\n",
              "      border-top-color: var(--fill-color);\n",
              "    }\n",
              "    60% {\n",
              "      border-color: transparent;\n",
              "      border-right-color: var(--fill-color);\n",
              "    }\n",
              "    80% {\n",
              "      border-color: transparent;\n",
              "      border-right-color: var(--fill-color);\n",
              "      border-bottom-color: var(--fill-color);\n",
              "    }\n",
              "    90% {\n",
              "      border-color: transparent;\n",
              "      border-bottom-color: var(--fill-color);\n",
              "    }\n",
              "  }\n",
              "</style>\n",
              "\n",
              "  <script>\n",
              "    async function quickchart(key) {\n",
              "      const quickchartButtonEl =\n",
              "        document.querySelector('#' + key + ' button');\n",
              "      quickchartButtonEl.disabled = true;  // To prevent multiple clicks.\n",
              "      quickchartButtonEl.classList.add('colab-df-spinner');\n",
              "      try {\n",
              "        const charts = await google.colab.kernel.invokeFunction(\n",
              "            'suggestCharts', [key], {});\n",
              "      } catch (error) {\n",
              "        console.error('Error during call to suggestCharts:', error);\n",
              "      }\n",
              "      quickchartButtonEl.classList.remove('colab-df-spinner');\n",
              "      quickchartButtonEl.classList.add('colab-df-quickchart-complete');\n",
              "    }\n",
              "    (() => {\n",
              "      let quickchartButtonEl =\n",
              "        document.querySelector('#df-bf683fa9-226a-4a6e-bfd6-23a444390469 button');\n",
              "      quickchartButtonEl.style.display =\n",
              "        google.colab.kernel.accessAllowed ? 'block' : 'none';\n",
              "    })();\n",
              "  </script>\n",
              "</div>\n",
              "\n",
              "  <div id=\"id_6a727db3-c8d8-4c74-8903-6d989aad85b4\">\n",
              "    <style>\n",
              "      .colab-df-generate {\n",
              "        background-color: #E8F0FE;\n",
              "        border: none;\n",
              "        border-radius: 50%;\n",
              "        cursor: pointer;\n",
              "        display: none;\n",
              "        fill: #1967D2;\n",
              "        height: 32px;\n",
              "        padding: 0 0 0 0;\n",
              "        width: 32px;\n",
              "      }\n",
              "\n",
              "      .colab-df-generate:hover {\n",
              "        background-color: #E2EBFA;\n",
              "        box-shadow: 0px 1px 2px rgba(60, 64, 67, 0.3), 0px 1px 3px 1px rgba(60, 64, 67, 0.15);\n",
              "        fill: #174EA6;\n",
              "      }\n",
              "\n",
              "      [theme=dark] .colab-df-generate {\n",
              "        background-color: #3B4455;\n",
              "        fill: #D2E3FC;\n",
              "      }\n",
              "\n",
              "      [theme=dark] .colab-df-generate:hover {\n",
              "        background-color: #434B5C;\n",
              "        box-shadow: 0px 1px 3px 1px rgba(0, 0, 0, 0.15);\n",
              "        filter: drop-shadow(0px 1px 2px rgba(0, 0, 0, 0.3));\n",
              "        fill: #FFFFFF;\n",
              "      }\n",
              "    </style>\n",
              "    <button class=\"colab-df-generate\" onclick=\"generateWithVariable('plt_por_ano')\"\n",
              "            title=\"Generate code using this dataframe.\"\n",
              "            style=\"display:none;\">\n",
              "\n",
              "  <svg xmlns=\"http://www.w3.org/2000/svg\" height=\"24px\"viewBox=\"0 0 24 24\"\n",
              "       width=\"24px\">\n",
              "    <path d=\"M7,19H8.4L18.45,9,17,7.55,7,17.6ZM5,21V16.75L18.45,3.32a2,2,0,0,1,2.83,0l1.4,1.43a1.91,1.91,0,0,1,.58,1.4,1.91,1.91,0,0,1-.58,1.4L9.25,21ZM18.45,9,17,7.55Zm-12,3A5.31,5.31,0,0,0,4.9,8.1,5.31,5.31,0,0,0,1,6.5,5.31,5.31,0,0,0,4.9,4.9,5.31,5.31,0,0,0,6.5,1,5.31,5.31,0,0,0,8.1,4.9,5.31,5.31,0,0,0,12,6.5,5.46,5.46,0,0,0,6.5,12Z\"/>\n",
              "  </svg>\n",
              "    </button>\n",
              "    <script>\n",
              "      (() => {\n",
              "      const buttonEl =\n",
              "        document.querySelector('#id_6a727db3-c8d8-4c74-8903-6d989aad85b4 button.colab-df-generate');\n",
              "      buttonEl.style.display =\n",
              "        google.colab.kernel.accessAllowed ? 'block' : 'none';\n",
              "\n",
              "      buttonEl.onclick = () => {\n",
              "        google.colab.notebook.generateWithVariable('plt_por_ano');\n",
              "      }\n",
              "      })();\n",
              "    </script>\n",
              "  </div>\n",
              "\n",
              "    </div>\n",
              "  </div>\n"
            ],
            "application/vnd.google.colaboratory.intrinsic+json": {
              "type": "dataframe",
              "variable_name": "plt_por_ano",
              "summary": "{\n  \"name\": \"plt_por_ano\",\n  \"rows\": 2,\n  \"fields\": [\n    {\n      \"column\": \"ano\",\n      \"properties\": {\n        \"dtype\": \"int32\",\n        \"num_unique_values\": 2,\n        \"samples\": [\n          2024,\n          2023\n        ],\n        \"semantic_type\": \"\",\n        \"description\": \"\"\n      }\n    },\n    {\n      \"column\": \"id\",\n      \"properties\": {\n        \"dtype\": \"number\",\n        \"std\": 3812,\n        \"min\": 67765,\n        \"max\": 73156,\n        \"num_unique_values\": 2,\n        \"samples\": [\n          73156,\n          67765\n        ],\n        \"semantic_type\": \"\",\n        \"description\": \"\"\n      }\n    }\n  ]\n}"
            }
          },
          "metadata": {},
          "execution_count": 33
        }
      ]
    },
    {
      "cell_type": "markdown",
      "source": [
        "> <font color=#4c60d6>**Atributo sinistro**"
      ],
      "metadata": {
        "id": "ZHFduQQx11B5"
      }
    },
    {
      "cell_type": "markdown",
      "source": [
        "O dataframe registra 1 acidente (sinistro) por tupla, sendo assim, criaremos o atributo **sinistro**."
      ],
      "metadata": {
        "id": "2ZgPo8h413yk"
      }
    },
    {
      "cell_type": "code",
      "source": [
        "df_acidentes[\"sinistro\"] = 1"
      ],
      "metadata": {
        "id": "BNTO8OQA2KIE"
      },
      "execution_count": 34,
      "outputs": []
    },
    {
      "cell_type": "code",
      "source": [
        "df_acidentes.groupby([\"ano\"])['sinistro'].sum().reset_index()"
      ],
      "metadata": {
        "colab": {
          "base_uri": "https://localhost:8080/",
          "height": 112
        },
        "id": "9r487VT42TeC",
        "outputId": "1470fe12-60fe-4c42-ee6a-0d980ce4cca0"
      },
      "execution_count": 35,
      "outputs": [
        {
          "output_type": "execute_result",
          "data": {
            "text/plain": [
              "    ano  sinistro\n",
              "0  2023     67765\n",
              "1  2024     73156"
            ],
            "text/html": [
              "\n",
              "  <div id=\"df-355102a5-ced8-4d80-8412-f70d61ff1710\" class=\"colab-df-container\">\n",
              "    <div>\n",
              "<style scoped>\n",
              "    .dataframe tbody tr th:only-of-type {\n",
              "        vertical-align: middle;\n",
              "    }\n",
              "\n",
              "    .dataframe tbody tr th {\n",
              "        vertical-align: top;\n",
              "    }\n",
              "\n",
              "    .dataframe thead th {\n",
              "        text-align: right;\n",
              "    }\n",
              "</style>\n",
              "<table border=\"1\" class=\"dataframe\">\n",
              "  <thead>\n",
              "    <tr style=\"text-align: right;\">\n",
              "      <th></th>\n",
              "      <th>ano</th>\n",
              "      <th>sinistro</th>\n",
              "    </tr>\n",
              "  </thead>\n",
              "  <tbody>\n",
              "    <tr>\n",
              "      <th>0</th>\n",
              "      <td>2023</td>\n",
              "      <td>67765</td>\n",
              "    </tr>\n",
              "    <tr>\n",
              "      <th>1</th>\n",
              "      <td>2024</td>\n",
              "      <td>73156</td>\n",
              "    </tr>\n",
              "  </tbody>\n",
              "</table>\n",
              "</div>\n",
              "    <div class=\"colab-df-buttons\">\n",
              "\n",
              "  <div class=\"colab-df-container\">\n",
              "    <button class=\"colab-df-convert\" onclick=\"convertToInteractive('df-355102a5-ced8-4d80-8412-f70d61ff1710')\"\n",
              "            title=\"Convert this dataframe to an interactive table.\"\n",
              "            style=\"display:none;\">\n",
              "\n",
              "  <svg xmlns=\"http://www.w3.org/2000/svg\" height=\"24px\" viewBox=\"0 -960 960 960\">\n",
              "    <path d=\"M120-120v-720h720v720H120Zm60-500h600v-160H180v160Zm220 220h160v-160H400v160Zm0 220h160v-160H400v160ZM180-400h160v-160H180v160Zm440 0h160v-160H620v160ZM180-180h160v-160H180v160Zm440 0h160v-160H620v160Z\"/>\n",
              "  </svg>\n",
              "    </button>\n",
              "\n",
              "  <style>\n",
              "    .colab-df-container {\n",
              "      display:flex;\n",
              "      gap: 12px;\n",
              "    }\n",
              "\n",
              "    .colab-df-convert {\n",
              "      background-color: #E8F0FE;\n",
              "      border: none;\n",
              "      border-radius: 50%;\n",
              "      cursor: pointer;\n",
              "      display: none;\n",
              "      fill: #1967D2;\n",
              "      height: 32px;\n",
              "      padding: 0 0 0 0;\n",
              "      width: 32px;\n",
              "    }\n",
              "\n",
              "    .colab-df-convert:hover {\n",
              "      background-color: #E2EBFA;\n",
              "      box-shadow: 0px 1px 2px rgba(60, 64, 67, 0.3), 0px 1px 3px 1px rgba(60, 64, 67, 0.15);\n",
              "      fill: #174EA6;\n",
              "    }\n",
              "\n",
              "    .colab-df-buttons div {\n",
              "      margin-bottom: 4px;\n",
              "    }\n",
              "\n",
              "    [theme=dark] .colab-df-convert {\n",
              "      background-color: #3B4455;\n",
              "      fill: #D2E3FC;\n",
              "    }\n",
              "\n",
              "    [theme=dark] .colab-df-convert:hover {\n",
              "      background-color: #434B5C;\n",
              "      box-shadow: 0px 1px 3px 1px rgba(0, 0, 0, 0.15);\n",
              "      filter: drop-shadow(0px 1px 2px rgba(0, 0, 0, 0.3));\n",
              "      fill: #FFFFFF;\n",
              "    }\n",
              "  </style>\n",
              "\n",
              "    <script>\n",
              "      const buttonEl =\n",
              "        document.querySelector('#df-355102a5-ced8-4d80-8412-f70d61ff1710 button.colab-df-convert');\n",
              "      buttonEl.style.display =\n",
              "        google.colab.kernel.accessAllowed ? 'block' : 'none';\n",
              "\n",
              "      async function convertToInteractive(key) {\n",
              "        const element = document.querySelector('#df-355102a5-ced8-4d80-8412-f70d61ff1710');\n",
              "        const dataTable =\n",
              "          await google.colab.kernel.invokeFunction('convertToInteractive',\n",
              "                                                    [key], {});\n",
              "        if (!dataTable) return;\n",
              "\n",
              "        const docLinkHtml = 'Like what you see? Visit the ' +\n",
              "          '<a target=\"_blank\" href=https://colab.research.google.com/notebooks/data_table.ipynb>data table notebook</a>'\n",
              "          + ' to learn more about interactive tables.';\n",
              "        element.innerHTML = '';\n",
              "        dataTable['output_type'] = 'display_data';\n",
              "        await google.colab.output.renderOutput(dataTable, element);\n",
              "        const docLink = document.createElement('div');\n",
              "        docLink.innerHTML = docLinkHtml;\n",
              "        element.appendChild(docLink);\n",
              "      }\n",
              "    </script>\n",
              "  </div>\n",
              "\n",
              "\n",
              "<div id=\"df-1119a0e3-ff2b-4f1d-a140-aacbcc552bdd\">\n",
              "  <button class=\"colab-df-quickchart\" onclick=\"quickchart('df-1119a0e3-ff2b-4f1d-a140-aacbcc552bdd')\"\n",
              "            title=\"Suggest charts\"\n",
              "            style=\"display:none;\">\n",
              "\n",
              "<svg xmlns=\"http://www.w3.org/2000/svg\" height=\"24px\"viewBox=\"0 0 24 24\"\n",
              "     width=\"24px\">\n",
              "    <g>\n",
              "        <path d=\"M19 3H5c-1.1 0-2 .9-2 2v14c0 1.1.9 2 2 2h14c1.1 0 2-.9 2-2V5c0-1.1-.9-2-2-2zM9 17H7v-7h2v7zm4 0h-2V7h2v10zm4 0h-2v-4h2v4z\"/>\n",
              "    </g>\n",
              "</svg>\n",
              "  </button>\n",
              "\n",
              "<style>\n",
              "  .colab-df-quickchart {\n",
              "      --bg-color: #E8F0FE;\n",
              "      --fill-color: #1967D2;\n",
              "      --hover-bg-color: #E2EBFA;\n",
              "      --hover-fill-color: #174EA6;\n",
              "      --disabled-fill-color: #AAA;\n",
              "      --disabled-bg-color: #DDD;\n",
              "  }\n",
              "\n",
              "  [theme=dark] .colab-df-quickchart {\n",
              "      --bg-color: #3B4455;\n",
              "      --fill-color: #D2E3FC;\n",
              "      --hover-bg-color: #434B5C;\n",
              "      --hover-fill-color: #FFFFFF;\n",
              "      --disabled-bg-color: #3B4455;\n",
              "      --disabled-fill-color: #666;\n",
              "  }\n",
              "\n",
              "  .colab-df-quickchart {\n",
              "    background-color: var(--bg-color);\n",
              "    border: none;\n",
              "    border-radius: 50%;\n",
              "    cursor: pointer;\n",
              "    display: none;\n",
              "    fill: var(--fill-color);\n",
              "    height: 32px;\n",
              "    padding: 0;\n",
              "    width: 32px;\n",
              "  }\n",
              "\n",
              "  .colab-df-quickchart:hover {\n",
              "    background-color: var(--hover-bg-color);\n",
              "    box-shadow: 0 1px 2px rgba(60, 64, 67, 0.3), 0 1px 3px 1px rgba(60, 64, 67, 0.15);\n",
              "    fill: var(--button-hover-fill-color);\n",
              "  }\n",
              "\n",
              "  .colab-df-quickchart-complete:disabled,\n",
              "  .colab-df-quickchart-complete:disabled:hover {\n",
              "    background-color: var(--disabled-bg-color);\n",
              "    fill: var(--disabled-fill-color);\n",
              "    box-shadow: none;\n",
              "  }\n",
              "\n",
              "  .colab-df-spinner {\n",
              "    border: 2px solid var(--fill-color);\n",
              "    border-color: transparent;\n",
              "    border-bottom-color: var(--fill-color);\n",
              "    animation:\n",
              "      spin 1s steps(1) infinite;\n",
              "  }\n",
              "\n",
              "  @keyframes spin {\n",
              "    0% {\n",
              "      border-color: transparent;\n",
              "      border-bottom-color: var(--fill-color);\n",
              "      border-left-color: var(--fill-color);\n",
              "    }\n",
              "    20% {\n",
              "      border-color: transparent;\n",
              "      border-left-color: var(--fill-color);\n",
              "      border-top-color: var(--fill-color);\n",
              "    }\n",
              "    30% {\n",
              "      border-color: transparent;\n",
              "      border-left-color: var(--fill-color);\n",
              "      border-top-color: var(--fill-color);\n",
              "      border-right-color: var(--fill-color);\n",
              "    }\n",
              "    40% {\n",
              "      border-color: transparent;\n",
              "      border-right-color: var(--fill-color);\n",
              "      border-top-color: var(--fill-color);\n",
              "    }\n",
              "    60% {\n",
              "      border-color: transparent;\n",
              "      border-right-color: var(--fill-color);\n",
              "    }\n",
              "    80% {\n",
              "      border-color: transparent;\n",
              "      border-right-color: var(--fill-color);\n",
              "      border-bottom-color: var(--fill-color);\n",
              "    }\n",
              "    90% {\n",
              "      border-color: transparent;\n",
              "      border-bottom-color: var(--fill-color);\n",
              "    }\n",
              "  }\n",
              "</style>\n",
              "\n",
              "  <script>\n",
              "    async function quickchart(key) {\n",
              "      const quickchartButtonEl =\n",
              "        document.querySelector('#' + key + ' button');\n",
              "      quickchartButtonEl.disabled = true;  // To prevent multiple clicks.\n",
              "      quickchartButtonEl.classList.add('colab-df-spinner');\n",
              "      try {\n",
              "        const charts = await google.colab.kernel.invokeFunction(\n",
              "            'suggestCharts', [key], {});\n",
              "      } catch (error) {\n",
              "        console.error('Error during call to suggestCharts:', error);\n",
              "      }\n",
              "      quickchartButtonEl.classList.remove('colab-df-spinner');\n",
              "      quickchartButtonEl.classList.add('colab-df-quickchart-complete');\n",
              "    }\n",
              "    (() => {\n",
              "      let quickchartButtonEl =\n",
              "        document.querySelector('#df-1119a0e3-ff2b-4f1d-a140-aacbcc552bdd button');\n",
              "      quickchartButtonEl.style.display =\n",
              "        google.colab.kernel.accessAllowed ? 'block' : 'none';\n",
              "    })();\n",
              "  </script>\n",
              "</div>\n",
              "\n",
              "    </div>\n",
              "  </div>\n"
            ],
            "application/vnd.google.colaboratory.intrinsic+json": {
              "type": "dataframe",
              "summary": "{\n  \"name\": \"df_acidentes\",\n  \"rows\": 2,\n  \"fields\": [\n    {\n      \"column\": \"ano\",\n      \"properties\": {\n        \"dtype\": \"int32\",\n        \"num_unique_values\": 2,\n        \"samples\": [\n          2024,\n          2023\n        ],\n        \"semantic_type\": \"\",\n        \"description\": \"\"\n      }\n    },\n    {\n      \"column\": \"sinistro\",\n      \"properties\": {\n        \"dtype\": \"number\",\n        \"std\": 3812,\n        \"min\": 67765,\n        \"max\": 73156,\n        \"num_unique_values\": 2,\n        \"samples\": [\n          73156,\n          67765\n        ],\n        \"semantic_type\": \"\",\n        \"description\": \"\"\n      }\n    }\n  ]\n}"
            }
          },
          "metadata": {},
          "execution_count": 35
        }
      ]
    },
    {
      "cell_type": "markdown",
      "source": [
        "> <font color=#4c60d6>**Atributo Região**"
      ],
      "metadata": {
        "id": "DMXqDq7PR_3B"
      }
    },
    {
      "cell_type": "code",
      "source": [
        "# Left Join entre a Fato e a dimensão\n",
        "df_acidentes = pd.merge(df_acidentes, tb_regiao, left_on=['uf'], right_on=['uf'], how='left')"
      ],
      "metadata": {
        "id": "k8D-VHVxR_Sw"
      },
      "execution_count": 36,
      "outputs": []
    },
    {
      "cell_type": "markdown",
      "source": [
        "###**<font color=#4c60d6> 4.5 Redução da dimensionalidade**"
      ],
      "metadata": {
        "id": "GgXnV5z_SyHT"
      }
    },
    {
      "cell_type": "markdown",
      "source": [
        "####**<font color=#4c60d6> 4.5.1 Agregação**"
      ],
      "metadata": {
        "id": "GYNN1cXuS-lh"
      }
    },
    {
      "cell_type": "markdown",
      "source": [
        "Também pode ser considerada uma técnica de redução de dimensionalidade, pois reduz o número de colunas e linhas do dataset.\n",
        ">\n",
        "Vamos criar um dataset agregado para comparar o ano de análise com o ano anterior.\n",
        ">\n",
        "Assim, será possivel fazer analises comparativas mais rápidas, e ter um dataset menor para usar no Github e Streamlit."
      ],
      "metadata": {
        "id": "Nybp6G7dTALw"
      }
    },
    {
      "cell_type": "code",
      "source": [
        "df_hs_acidentes = df_acidentes[[\"uf\",\"br\",\"causa_acidente\",\"tipo_acidente\",\"classificacao_acidente\",\n",
        "                                        \"condicao_metereologica\",\"fase_dia\",\"ano\",\"mes\",\"ano_mes\",\"semana\",\n",
        "                                        \"uf_nome\",\"regiao\",'sinistro','pessoas','mortos', 'feridos_leves', 'feridos_graves', 'ilesos', 'ignorados', 'veiculos']]\n"
      ],
      "metadata": {
        "id": "yPwVIA7U_rVj"
      },
      "execution_count": 56,
      "outputs": []
    },
    {
      "cell_type": "code",
      "source": [
        "df_hs_acidentes = df_hs_acidentes.groupby([\"uf\",\"br\",\"causa_acidente\",\"tipo_acidente\",\"classificacao_acidente\",\n",
        "                                        \"condicao_metereologica\",\"fase_dia\",\"ano\",\"mes\",\"ano_mes\",\"semana\",\n",
        "                                        \"uf_nome\",\"regiao\"]).sum(['sinistro','pessoas','mortos', 'feridos_leves', 'feridos_graves', 'ilesos', 'ignorados', 'veiculos']).reset_index()\n",
        "\n"
      ],
      "metadata": {
        "id": "loG8wPGCVbVr"
      },
      "execution_count": 57,
      "outputs": []
    },
    {
      "cell_type": "code",
      "source": [
        "df_hs_acidentes.info()"
      ],
      "metadata": {
        "colab": {
          "base_uri": "https://localhost:8080/"
        },
        "id": "mHVeTb78_7BI",
        "outputId": "1ca93136-81f5-4f92-f23e-5ddfc3c19cf0"
      },
      "execution_count": 58,
      "outputs": [
        {
          "output_type": "stream",
          "name": "stdout",
          "text": [
            "<class 'pandas.core.frame.DataFrame'>\n",
            "RangeIndex: 136852 entries, 0 to 136851\n",
            "Data columns (total 21 columns):\n",
            " #   Column                  Non-Null Count   Dtype \n",
            "---  ------                  --------------   ----- \n",
            " 0   uf                      136852 non-null  object\n",
            " 1   br                      136852 non-null  int64 \n",
            " 2   causa_acidente          136852 non-null  object\n",
            " 3   tipo_acidente           136852 non-null  object\n",
            " 4   classificacao_acidente  136852 non-null  object\n",
            " 5   condicao_metereologica  136852 non-null  object\n",
            " 6   fase_dia                136852 non-null  object\n",
            " 7   ano                     136852 non-null  int32 \n",
            " 8   mes                     136852 non-null  int32 \n",
            " 9   ano_mes                 136852 non-null  object\n",
            " 10  semana                  136852 non-null  int32 \n",
            " 11  uf_nome                 136852 non-null  object\n",
            " 12  regiao                  136852 non-null  object\n",
            " 13  sinistro                136852 non-null  int64 \n",
            " 14  pessoas                 136852 non-null  int64 \n",
            " 15  mortos                  136852 non-null  int64 \n",
            " 16  feridos_leves           136852 non-null  int64 \n",
            " 17  feridos_graves          136852 non-null  int64 \n",
            " 18  ilesos                  136852 non-null  int64 \n",
            " 19  ignorados               136852 non-null  int64 \n",
            " 20  veiculos                136852 non-null  int64 \n",
            "dtypes: int32(3), int64(9), object(9)\n",
            "memory usage: 20.4+ MB\n"
          ]
        }
      ]
    },
    {
      "cell_type": "markdown",
      "source": [
        "#**<font color=#4c60d6 size=\"6\"> 5. Export**"
      ],
      "metadata": {
        "id": "z2LfFr7SWfrG"
      }
    },
    {
      "cell_type": "markdown",
      "source": [
        "Agora iremos exportar o dataset em CSV, para usarmos no Streamlit"
      ],
      "metadata": {
        "id": "ojl-kR4_WjRz"
      }
    },
    {
      "cell_type": "markdown",
      "source": [
        "> <font color=#4c60d6>**Dataset histórico**"
      ],
      "metadata": {
        "id": "PdAO8m28XFPX"
      }
    },
    {
      "cell_type": "code",
      "source": [
        "from shutil import copyfileobj\n",
        "import bz2\n",
        "\n",
        "# Exportar para csv\n",
        "df_hs_acidentes.to_csv('df_hs_acidentes.csv', index=False)\n",
        "\n",
        "# compactar arquivo com nivel de compressão máxima\n",
        "with open('df_hs_acidentes.csv', 'rb') as input:\n",
        "    with bz2.BZ2File('df_hs_acidentes.csv.bz2', 'wb', compresslevel=9) as output:\n",
        "        copyfileobj(input, output)"
      ],
      "metadata": {
        "id": "oS83nDuKW5on"
      },
      "execution_count": 40,
      "outputs": []
    },
    {
      "cell_type": "markdown",
      "source": [
        "> <font color=#4c60d6>**Dataset 2024**"
      ],
      "metadata": {
        "id": "BnCacVWBXJvm"
      }
    },
    {
      "cell_type": "code",
      "source": [
        "df_acidentes_2024 = df_acidentes.query('ano == 2024')"
      ],
      "metadata": {
        "id": "TZb65jJyXMNj"
      },
      "execution_count": 41,
      "outputs": []
    },
    {
      "cell_type": "code",
      "source": [
        "# Exportar para csv\n",
        "df_acidentes_2024.to_csv('df_acidentes_2024.csv', index=False)\n",
        "\n",
        "# compactar arquivo com nivel de compressão máxima\n",
        "with open('df_acidentes_2024.csv', 'rb') as input:\n",
        "    with bz2.BZ2File('df_acidentes_2024.csv.bz2', 'wb', compresslevel=9) as output:\n",
        "        copyfileobj(input, output)"
      ],
      "metadata": {
        "id": "9UU-9HSPX1IX"
      },
      "execution_count": 42,
      "outputs": []
    }
  ]
}